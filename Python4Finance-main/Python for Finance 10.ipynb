{
 "cells": [
  {
   "cell_type": "code",
   "execution_count": 99,
   "metadata": {},
   "outputs": [],
   "source": [
    "# Provides ways to work with large multidimensional arrays\n",
    "import numpy as np \n",
    "# Allows for further data manipulation and analysis\n",
    "import pandas as pd\n",
    "from pandas_datareader import data as web # Reads stock data \n",
    "import matplotlib.pyplot as plt # Plotting\n",
    "import matplotlib.dates as mdates # Styling dates\n",
    "%matplotlib inline\n",
    "\n",
    "import datetime as dt # For defining dates\n",
    "import mplfinance as mpf # Matplotlib finance\n",
    "\n",
    "import time\n",
    "\n",
    "# Used to get data from a directory\n",
    "import os\n",
    "from os import listdir\n",
    "from os.path import isfile, join\n",
    "\n",
    "#Statsmodels is a great library we can use to run regressions.\n",
    "import statsmodels.api as sm\n",
    "# Seaborn extends the capabilities of Matplotlib\n",
    "import seaborn as sns\n",
    "# Used for calculating regressions\n",
    "from statsmodels.tsa.ar_model import AutoReg, ar_select_order"
   ]
  },
  {
   "cell_type": "markdown",
   "metadata": {},
   "source": [
    "## Dates & Other Constants"
   ]
  },
  {
   "cell_type": "code",
   "execution_count": 100,
   "metadata": {},
   "outputs": [],
   "source": [
    "# Define path to files\n",
    "# For MacOS\n",
    "PATH = \"/Users/derekbanas/Documents/Tutorials/Python for Finance/Stocks/\"\n",
    "# For Windows\n",
    "# PATH = \"D:/Python for Finance/Stocks/\"\n",
    "\n",
    "# Start date defaults\n",
    "S_YEAR = 2017\n",
    "S_MONTH = 1\n",
    "S_DAY = 3\n",
    "S_DATE_STR = \"2017-01-03\"\n",
    "S_DATE_DATETIME = dt.datetime(S_YEAR, S_MONTH, S_DAY)\n",
    "\n",
    "# End date defaults\n",
    "E_YEAR = 2021\n",
    "E_MONTH = 8\n",
    "E_DAY = 19\n",
    "E_DATE_STR = \"2021-08-19\"\n",
    "E_DATE_DATETIME = dt.datetime(E_YEAR, E_MONTH, E_DAY)\n",
    "\n",
    "risk_free_rate = 0.0125 # Approximate 10 year bond rate"
   ]
  },
  {
   "cell_type": "markdown",
   "metadata": {},
   "source": [
    "## Function that Saves Dataframe to CSV"
   ]
  },
  {
   "cell_type": "code",
   "execution_count": 101,
   "metadata": {},
   "outputs": [],
   "source": [
    "def save_dataframe_to_csv(df, ticker):\n",
    "    df.to_csv(PATH + ticker + '.csv')"
   ]
  },
  {
   "cell_type": "markdown",
   "metadata": {},
   "source": [
    "## Function that Returns a Dataframe from a CSV"
   ]
  },
  {
   "cell_type": "code",
   "execution_count": 102,
   "metadata": {},
   "outputs": [],
   "source": [
    "def get_df_from_csv(ticker):\n",
    "    try:\n",
    "        df = pd.read_csv(PATH + ticker + '.csv', index_col='Date', \n",
    "                         parse_dates=True)\n",
    "    except FileNotFoundError:\n",
    "        pass\n",
    "        # print(\"File Doesn't Exist\")\n",
    "    else:\n",
    "        return df"
   ]
  },
  {
   "cell_type": "markdown",
   "metadata": {},
   "source": [
    "## Add Daily Return to Dataframe"
   ]
  },
  {
   "cell_type": "code",
   "execution_count": 103,
   "metadata": {},
   "outputs": [],
   "source": [
    "# Shift provides the value from the previous day\n",
    "# NaN is displayed because there was no previous day price for the 1st calculation\n",
    "def add_daily_return_to_df(df, ticker):\n",
    "    df['daily_return'] = (df['Adj Close'] / df['Adj Close'].shift(1)) - 1\n",
    "    # Save data to a CSV file\n",
    "    save_dataframe_to_csv(df, ticker)\n",
    "    return df  "
   ]
  },
  {
   "cell_type": "markdown",
   "metadata": {},
   "source": [
    "## Merge Multiple Stocks in One Dataframe by Column Name"
   ]
  },
  {
   "cell_type": "code",
   "execution_count": 104,
   "metadata": {},
   "outputs": [],
   "source": [
    "def merge_df_by_column_name(col_name, sdate, edate, *tickers):\n",
    "    # Will hold data for all dataframes with the same column name\n",
    "    mult_df = pd.DataFrame()\n",
    "    \n",
    "    for x in tickers:\n",
    "        df = get_df_from_csv(x)\n",
    "        \n",
    "        # NEW Check if your dataframe has duplicate indexes\n",
    "        if not df.index.is_unique:\n",
    "            # Delete duplicates \n",
    "            df = df.loc[~df.index.duplicated(), :]\n",
    "        \n",
    "        mask = (df.index >= sdate) & (df.index <= edate)\n",
    "        mult_df[x] = df.loc[mask][col_name]\n",
    "        \n",
    "    return mult_df"
   ]
  },
  {
   "cell_type": "code",
   "execution_count": 105,
   "metadata": {},
   "outputs": [
    {
     "data": {
      "text/html": [
       "<div>\n",
       "<style scoped>\n",
       "    .dataframe tbody tr th:only-of-type {\n",
       "        vertical-align: middle;\n",
       "    }\n",
       "\n",
       "    .dataframe tbody tr th {\n",
       "        vertical-align: top;\n",
       "    }\n",
       "\n",
       "    .dataframe thead th {\n",
       "        text-align: right;\n",
       "    }\n",
       "</style>\n",
       "<table border=\"1\" class=\"dataframe\">\n",
       "  <thead>\n",
       "    <tr style=\"text-align: right;\">\n",
       "      <th></th>\n",
       "      <th>AMD</th>\n",
       "      <th>CPRT</th>\n",
       "    </tr>\n",
       "    <tr>\n",
       "      <th>Date</th>\n",
       "      <th></th>\n",
       "      <th></th>\n",
       "    </tr>\n",
       "  </thead>\n",
       "  <tbody>\n",
       "    <tr>\n",
       "      <th>2018-01-02</th>\n",
       "      <td>0.068093</td>\n",
       "      <td>0.009493</td>\n",
       "    </tr>\n",
       "    <tr>\n",
       "      <th>2018-01-03</th>\n",
       "      <td>0.051913</td>\n",
       "      <td>-0.004816</td>\n",
       "    </tr>\n",
       "    <tr>\n",
       "      <th>2018-01-04</th>\n",
       "      <td>0.049351</td>\n",
       "      <td>0.008066</td>\n",
       "    </tr>\n",
       "    <tr>\n",
       "      <th>2018-01-05</th>\n",
       "      <td>-0.019802</td>\n",
       "      <td>-0.004801</td>\n",
       "    </tr>\n",
       "    <tr>\n",
       "      <th>2018-01-08</th>\n",
       "      <td>0.033670</td>\n",
       "      <td>0.000459</td>\n",
       "    </tr>\n",
       "    <tr>\n",
       "      <th>...</th>\n",
       "      <td>...</td>\n",
       "      <td>...</td>\n",
       "    </tr>\n",
       "    <tr>\n",
       "      <th>2021-09-03</th>\n",
       "      <td>0.006593</td>\n",
       "      <td>0.003929</td>\n",
       "    </tr>\n",
       "    <tr>\n",
       "      <th>2021-09-07</th>\n",
       "      <td>-0.007005</td>\n",
       "      <td>NaN</td>\n",
       "    </tr>\n",
       "    <tr>\n",
       "      <th>2021-09-08</th>\n",
       "      <td>-0.027302</td>\n",
       "      <td>NaN</td>\n",
       "    </tr>\n",
       "    <tr>\n",
       "      <th>2021-09-09</th>\n",
       "      <td>-0.000188</td>\n",
       "      <td>NaN</td>\n",
       "    </tr>\n",
       "    <tr>\n",
       "      <th>2021-09-10</th>\n",
       "      <td>-0.008950</td>\n",
       "      <td>-0.016480</td>\n",
       "    </tr>\n",
       "  </tbody>\n",
       "</table>\n",
       "<p>930 rows × 2 columns</p>\n",
       "</div>"
      ],
      "text/plain": [
       "                 AMD      CPRT\n",
       "Date                          \n",
       "2018-01-02  0.068093  0.009493\n",
       "2018-01-03  0.051913 -0.004816\n",
       "2018-01-04  0.049351  0.008066\n",
       "2018-01-05 -0.019802 -0.004801\n",
       "2018-01-08  0.033670  0.000459\n",
       "...              ...       ...\n",
       "2021-09-03  0.006593  0.003929\n",
       "2021-09-07 -0.007005       NaN\n",
       "2021-09-08 -0.027302       NaN\n",
       "2021-09-09 -0.000188       NaN\n",
       "2021-09-10 -0.008950 -0.016480\n",
       "\n",
       "[930 rows x 2 columns]"
      ]
     },
     "execution_count": 105,
     "metadata": {},
     "output_type": "execute_result"
    }
   ],
   "source": [
    "port_list = [\"AMD\", \"CPRT\"]\n",
    "mult_df = merge_df_by_column_name('daily_return',  '2018-01-02', \n",
    "                                  '2021-09-10', *port_list)\n",
    "mult_df"
   ]
  },
  {
   "cell_type": "markdown",
   "metadata": {},
   "source": [
    "## Calculating Beta"
   ]
  },
  {
   "cell_type": "markdown",
   "metadata": {},
   "source": [
    "Beta provides the relationship between an investment and the overall market. Risky investments tend to fall further during bad times, but will increase quicker during good times. \n",
    "\n",
    "Beta is found by dividing the covariance of the stock and the market by the variance of the overall market. It is a measure of systematic risk that can't be diversified away.  \n",
    "\n",
    "$ \\beta = \\frac{Cov(r_x, r_m)}{\\sigma_m^2} $\n",
    "\n",
    "$ \\beta = 0 $ : No relation to market\n",
    "\n",
    "$ \\beta < 1 $ : Less risky than market\n",
    "\n",
    "$ \\beta > 1 $ : More risky than the market"
   ]
  },
  {
   "cell_type": "markdown",
   "metadata": {},
   "source": [
    "## Examples"
   ]
  },
  {
   "cell_type": "markdown",
   "metadata": {},
   "source": [
    "Albertsons is a grocery store chain with a low beta of 0.5 because no matter what people need food and pharmecueticals. \n",
    "\n",
    "AMD manufacturers microchips and is a high beta stock at 1.4 because during hard times there is less demand for their products."
   ]
  },
  {
   "cell_type": "markdown",
   "metadata": {},
   "source": [
    "## Get S&P 500 and AMD Data"
   ]
  },
  {
   "cell_type": "code",
   "execution_count": 106,
   "metadata": {},
   "outputs": [
    {
     "data": {
      "text/html": [
       "<div>\n",
       "<style scoped>\n",
       "    .dataframe tbody tr th:only-of-type {\n",
       "        vertical-align: middle;\n",
       "    }\n",
       "\n",
       "    .dataframe tbody tr th {\n",
       "        vertical-align: top;\n",
       "    }\n",
       "\n",
       "    .dataframe thead th {\n",
       "        text-align: right;\n",
       "    }\n",
       "</style>\n",
       "<table border=\"1\" class=\"dataframe\">\n",
       "  <thead>\n",
       "    <tr style=\"text-align: right;\">\n",
       "      <th></th>\n",
       "      <th>Adj Close</th>\n",
       "      <th>daily_return</th>\n",
       "    </tr>\n",
       "    <tr>\n",
       "      <th>Date</th>\n",
       "      <th></th>\n",
       "      <th></th>\n",
       "    </tr>\n",
       "  </thead>\n",
       "  <tbody>\n",
       "    <tr>\n",
       "      <th>2017-01-03</th>\n",
       "      <td>11.430000</td>\n",
       "      <td>NaN</td>\n",
       "    </tr>\n",
       "    <tr>\n",
       "      <th>2017-01-04</th>\n",
       "      <td>11.430000</td>\n",
       "      <td>0.000000</td>\n",
       "    </tr>\n",
       "    <tr>\n",
       "      <th>2017-01-05</th>\n",
       "      <td>11.240000</td>\n",
       "      <td>-0.016623</td>\n",
       "    </tr>\n",
       "    <tr>\n",
       "      <th>2017-01-06</th>\n",
       "      <td>11.320000</td>\n",
       "      <td>0.007117</td>\n",
       "    </tr>\n",
       "    <tr>\n",
       "      <th>2017-01-09</th>\n",
       "      <td>11.490000</td>\n",
       "      <td>0.015018</td>\n",
       "    </tr>\n",
       "    <tr>\n",
       "      <th>...</th>\n",
       "      <td>...</td>\n",
       "      <td>...</td>\n",
       "    </tr>\n",
       "    <tr>\n",
       "      <th>2021-09-03</th>\n",
       "      <td>109.919998</td>\n",
       "      <td>0.006593</td>\n",
       "    </tr>\n",
       "    <tr>\n",
       "      <th>2021-09-07</th>\n",
       "      <td>109.150002</td>\n",
       "      <td>-0.007005</td>\n",
       "    </tr>\n",
       "    <tr>\n",
       "      <th>2021-09-08</th>\n",
       "      <td>106.169998</td>\n",
       "      <td>-0.027302</td>\n",
       "    </tr>\n",
       "    <tr>\n",
       "      <th>2021-09-09</th>\n",
       "      <td>106.150002</td>\n",
       "      <td>-0.000188</td>\n",
       "    </tr>\n",
       "    <tr>\n",
       "      <th>2021-09-10</th>\n",
       "      <td>105.199997</td>\n",
       "      <td>-0.008950</td>\n",
       "    </tr>\n",
       "  </tbody>\n",
       "</table>\n",
       "<p>1181 rows × 2 columns</p>\n",
       "</div>"
      ],
      "text/plain": [
       "             Adj Close  daily_return\n",
       "Date                                \n",
       "2017-01-03   11.430000           NaN\n",
       "2017-01-04   11.430000      0.000000\n",
       "2017-01-05   11.240000     -0.016623\n",
       "2017-01-06   11.320000      0.007117\n",
       "2017-01-09   11.490000      0.015018\n",
       "...                ...           ...\n",
       "2021-09-03  109.919998      0.006593\n",
       "2021-09-07  109.150002     -0.007005\n",
       "2021-09-08  106.169998     -0.027302\n",
       "2021-09-09  106.150002     -0.000188\n",
       "2021-09-10  105.199997     -0.008950\n",
       "\n",
       "[1181 rows x 2 columns]"
      ]
     },
     "execution_count": 106,
     "metadata": {},
     "output_type": "execute_result"
    }
   ],
   "source": [
    "# # Will hold S&P 500 adjusted close data\n",
    "# sp_df = pd.DataFrame()\n",
    "\n",
    "# # Download data from Yahoo\n",
    "# sp_df = web.DataReader('GSPC', 'yahoo', '2017-1-3', '2021-9-10')['Adj Close']\n",
    "\n",
    "amd_df = get_df_from_csv('AMD')\n",
    "\n",
    "amd_df"
   ]
  },
  {
   "cell_type": "code",
   "execution_count": 107,
   "metadata": {},
   "outputs": [
    {
     "data": {
      "text/html": [
       "<div>\n",
       "<style scoped>\n",
       "    .dataframe tbody tr th:only-of-type {\n",
       "        vertical-align: middle;\n",
       "    }\n",
       "\n",
       "    .dataframe tbody tr th {\n",
       "        vertical-align: top;\n",
       "    }\n",
       "\n",
       "    .dataframe thead th {\n",
       "        text-align: right;\n",
       "    }\n",
       "</style>\n",
       "<table border=\"1\" class=\"dataframe\">\n",
       "  <thead>\n",
       "    <tr style=\"text-align: right;\">\n",
       "      <th></th>\n",
       "      <th>Adj Close</th>\n",
       "      <th>daily_return</th>\n",
       "    </tr>\n",
       "    <tr>\n",
       "      <th>Date</th>\n",
       "      <th></th>\n",
       "      <th></th>\n",
       "    </tr>\n",
       "  </thead>\n",
       "  <tbody>\n",
       "    <tr>\n",
       "      <th>2017-01-03</th>\n",
       "      <td>2257.830078</td>\n",
       "      <td>NaN</td>\n",
       "    </tr>\n",
       "    <tr>\n",
       "      <th>2017-01-04</th>\n",
       "      <td>2270.750000</td>\n",
       "      <td>0.005722</td>\n",
       "    </tr>\n",
       "    <tr>\n",
       "      <th>2017-01-05</th>\n",
       "      <td>2269.000000</td>\n",
       "      <td>-0.000771</td>\n",
       "    </tr>\n",
       "    <tr>\n",
       "      <th>2017-01-06</th>\n",
       "      <td>2276.979980</td>\n",
       "      <td>0.003517</td>\n",
       "    </tr>\n",
       "    <tr>\n",
       "      <th>2017-01-09</th>\n",
       "      <td>2268.899902</td>\n",
       "      <td>-0.003549</td>\n",
       "    </tr>\n",
       "    <tr>\n",
       "      <th>...</th>\n",
       "      <td>...</td>\n",
       "      <td>...</td>\n",
       "    </tr>\n",
       "    <tr>\n",
       "      <th>2021-09-03</th>\n",
       "      <td>4535.430176</td>\n",
       "      <td>-0.000335</td>\n",
       "    </tr>\n",
       "    <tr>\n",
       "      <th>2021-09-07</th>\n",
       "      <td>4520.029785</td>\n",
       "      <td>-0.003396</td>\n",
       "    </tr>\n",
       "    <tr>\n",
       "      <th>2021-09-08</th>\n",
       "      <td>4514.069824</td>\n",
       "      <td>-0.001319</td>\n",
       "    </tr>\n",
       "    <tr>\n",
       "      <th>2021-09-09</th>\n",
       "      <td>4493.279785</td>\n",
       "      <td>-0.004606</td>\n",
       "    </tr>\n",
       "    <tr>\n",
       "      <th>2021-09-10</th>\n",
       "      <td>4458.580078</td>\n",
       "      <td>-0.007723</td>\n",
       "    </tr>\n",
       "  </tbody>\n",
       "</table>\n",
       "<p>1181 rows × 2 columns</p>\n",
       "</div>"
      ],
      "text/plain": [
       "              Adj Close  daily_return\n",
       "Date                                 \n",
       "2017-01-03  2257.830078           NaN\n",
       "2017-01-04  2270.750000      0.005722\n",
       "2017-01-05  2269.000000     -0.000771\n",
       "2017-01-06  2276.979980      0.003517\n",
       "2017-01-09  2268.899902     -0.003549\n",
       "...                 ...           ...\n",
       "2021-09-03  4535.430176     -0.000335\n",
       "2021-09-07  4520.029785     -0.003396\n",
       "2021-09-08  4514.069824     -0.001319\n",
       "2021-09-09  4493.279785     -0.004606\n",
       "2021-09-10  4458.580078     -0.007723\n",
       "\n",
       "[1181 rows x 2 columns]"
      ]
     },
     "execution_count": 107,
     "metadata": {},
     "output_type": "execute_result"
    }
   ],
   "source": [
    "sp_df = get_df_from_csv('GSPC')\n",
    "\n",
    "sp_df"
   ]
  },
  {
   "cell_type": "markdown",
   "metadata": {},
   "source": [
    "## Add Daily Return & Save to CSV"
   ]
  },
  {
   "cell_type": "code",
   "execution_count": 108,
   "metadata": {},
   "outputs": [],
   "source": [
    "# # Save S&P to csv\n",
    "# save_dataframe_to_csv(sp_df, 'GSPC')\n",
    "\n",
    "# # Get dataframe from csv\n",
    "# sp_df2 = get_df_from_csv('GSPC')\n",
    "\n",
    "# # Add daily return to dataframe\n",
    "# add_daily_return_to_df(sp_df2, 'GSPC')\n",
    "# sp_df2"
   ]
  },
  {
   "cell_type": "markdown",
   "metadata": {},
   "source": [
    "## Find Beta for Stock versus S&P"
   ]
  },
  {
   "cell_type": "code",
   "execution_count": 109,
   "metadata": {},
   "outputs": [],
   "source": [
    "def find_beta(ticker):\n",
    "    # Tickers analyzed being the S&P and the stock passed\n",
    "    port_list =['GSPC']\n",
    "    port_list.append(ticker)\n",
    "\n",
    "    mult_df = merge_df_by_column_name('daily_return',  '2018-01-02', \n",
    "                                  '2021-09-10', *port_list)\n",
    "    \n",
    "    # Provides the covariance between the securities\n",
    "    cov = mult_df.cov() * 252\n",
    "    \n",
    "    # Get the covariance of the stock and the market\n",
    "    cov_vs_market = cov.iloc[0,1]\n",
    "    \n",
    "    # Get annualized variance of the S&P\n",
    "    sp_var = mult_df['GSPC'].var() * 252\n",
    "    \n",
    "    # Beta is normally calculated over a 5 year period which is why you may see a difference\n",
    "    beta = cov_vs_market / sp_var\n",
    "    return beta\n"
   ]
  },
  {
   "cell_type": "markdown",
   "metadata": {},
   "source": [
    "## Get Stock Beta"
   ]
  },
  {
   "cell_type": "code",
   "execution_count": 110,
   "metadata": {},
   "outputs": [
    {
     "name": "stdout",
     "output_type": "stream",
     "text": [
      "AMD Beta : 1.4094430275300194\n"
     ]
    }
   ],
   "source": [
    "print(\"AMD Beta :\", find_beta('AMD'))"
   ]
  },
  {
   "cell_type": "markdown",
   "metadata": {},
   "source": [
    "## Capital Asset Pricing Model"
   ]
  },
  {
   "cell_type": "markdown",
   "metadata": {},
   "source": [
    "Sharpe continued to create the CAPM based on the research of Markowitz. It focuses on investments in stocks and bonds. With it we can more exactly create portfolios that match the risk an investor is willing to assume. CAPM assumes a risk free asset which of course provides a small return. So if the investor wants less risk they simply buy more of the risk free assets.\n",
    "\n",
    "There is risk that you can limit through diversifaction (Idiosyncratic) and risk that you can't (Systematic). This portfolio contains no Idiosyncratic risk and like before it lies on the efficient frontier.\n",
    "\n",
    "To find this portfolio we will draw a line ( The Capital Market Line ) from the Y intercept to the efficient frontier. \n",
    "\n",
    "Here is the formula. The securities expected return equals the risk free asset plus Beta times the market return minus the risk free asset. it is common for $ r_m - r_f $ to be considered 5% which is called the Equity Risk Premium.\n",
    "\n",
    "$ r_i = r_f + \\beta_i (r_m - r_f) $"
   ]
  },
  {
   "cell_type": "markdown",
   "metadata": {},
   "source": [
    "## Calculate AMDs Expected Return"
   ]
  },
  {
   "cell_type": "code",
   "execution_count": 111,
   "metadata": {},
   "outputs": [
    {
     "data": {
      "text/plain": [
       "0.08347215137650096"
      ]
     },
     "execution_count": 111,
     "metadata": {},
     "output_type": "execute_result"
    }
   ],
   "source": [
    "risk_free_rate = 0.013\n",
    "ri = risk_free_rate + find_beta('AMD') * 0.05\n",
    "ri"
   ]
  },
  {
   "cell_type": "markdown",
   "metadata": {},
   "source": [
    "## Sharpe Ratio"
   ]
  },
  {
   "cell_type": "markdown",
   "metadata": {},
   "source": [
    "William Sharpe created the Sharpe Ratio to find the portfolio that provides the best return for the lowest amount of risk. \n",
    "\n",
    "*Sharpe Ratio* = $\\frac{r_i - r_f}{\\sigma_i}$\n",
    "\n",
    "$r_f = $ Risk Free Rate\n",
    "\n",
    "$r_i = $ Rate of Return of the stock\n",
    "\n",
    "$\\sigma_i = $ Standard Deviation of the Stock\n",
    "\n",
    "As return increases so does the Sharpe Ratio, but as Standard Deviation increase the Sharpe Ratio decreases."
   ]
  },
  {
   "cell_type": "code",
   "execution_count": 112,
   "metadata": {},
   "outputs": [
    {
     "data": {
      "text/plain": [
       "0.1253990235142509"
      ]
     },
     "execution_count": 112,
     "metadata": {},
     "output_type": "execute_result"
    }
   ],
   "source": [
    "# We can find the Sharpe ratio for AMD\n",
    "amd_sharpe = (ri - risk_free_rate) / (mult_df['AMD'].std() * 252 ** 0.5)\n",
    "amd_sharpe"
   ]
  },
  {
   "cell_type": "markdown",
   "metadata": {},
   "source": [
    "## Get Stock Prices on Date"
   ]
  },
  {
   "cell_type": "code",
   "execution_count": 113,
   "metadata": {},
   "outputs": [],
   "source": [
    "def get_prices_on_date(stocks_df, date):\n",
    "    return stocks_df.loc[pd.DatetimeIndex([date])]['Adj Close'].item()"
   ]
  },
  {
   "cell_type": "markdown",
   "metadata": {},
   "source": [
    "## Returns the Value of Portfolio by Date"
   ]
  },
  {
   "cell_type": "code",
   "execution_count": 114,
   "metadata": {},
   "outputs": [],
   "source": [
    "def get_port_val_by_date(date, shares, tickers):\n",
    "    port_prices = merge_df_by_column_name('Adj Close',  date, \n",
    "                                  date, *port_list)\n",
    "    # Convert from dataframe to Python list\n",
    "    port_prices = port_prices.values.tolist()\n",
    "    # Trick that converts a list of lists into a single list\n",
    "    port_prices = sum(port_prices, [])\n",
    "    \n",
    "    # Create a list of values by multiplying shares by price\n",
    "    value_list = []\n",
    "    for price, share in zip(port_prices, shares):\n",
    "        value_list.append(price * share)\n",
    "    \n",
    "    return sum(value_list)"
   ]
  },
  {
   "cell_type": "markdown",
   "metadata": {},
   "source": [
    "## Get Value of Portfolio at Beginning and End of Year"
   ]
  },
  {
   "cell_type": "code",
   "execution_count": 115,
   "metadata": {},
   "outputs": [
    {
     "name": "stdout",
     "output_type": "stream",
     "text": [
      "Portfolio Value at Start of 2020 : $11738.29\n",
      "Portfolio Value at End of 2020 : $19232.34\n"
     ]
    }
   ],
   "source": [
    "port_list = [\"GNRC\", \"CPRT\", \"ODFL\", \"AMD\", \"PAYC\", \"CHTR\", \"MKC\", \n",
    "             \"PG\", \"PGR\", \"NEM\", \"CCI\", \"COG\"]\n",
    "\n",
    "port_shares = [25, 20, 22, 26, 1, 1, 4, 1, 5, 28, 3, 7]\n",
    "\n",
    "# Portfolio value at start of 2020\n",
    "port_val_start = get_port_val_by_date('2020-01-02', port_shares, port_list)\n",
    "print(\"Portfolio Value at Start of 2020 : $%2.2f\" % (port_val_start))\n",
    "\n",
    "# Portfolio value at end of 2020\n",
    "port_val_end = get_port_val_by_date('2020-12-31', port_shares, port_list)\n",
    "print(\"Portfolio Value at End of 2020 : $%2.2f\" % (port_val_end))"
   ]
  },
  {
   "cell_type": "markdown",
   "metadata": {},
   "source": [
    "## Calculate Return on Investment"
   ]
  },
  {
   "cell_type": "markdown",
   "metadata": {},
   "source": [
    "ROI = $\\frac{Final Value - Initial Value}{Initial Value}$"
   ]
  },
  {
   "cell_type": "code",
   "execution_count": 116,
   "metadata": {},
   "outputs": [
    {
     "name": "stdout",
     "output_type": "stream",
     "text": [
      "Portfolio ROI at End of 2020 : 38.97 %\n",
      "S&P ROI at End of 2020 : 13.26 %\n"
     ]
    }
   ],
   "source": [
    "# Rate of return for portfolio\n",
    "roi_port = (port_val_end - port_val_start) / port_val_end\n",
    "print(\"Portfolio ROI at End of 2020 : %2.2f %%\" % (roi_port * 100))\n",
    "\n",
    "# S&P ROI\n",
    "sp_df = get_df_from_csv('GSPC')\n",
    "sp_val_start = get_prices_on_date(sp_df, '2020-01-02')\n",
    "sp_val_end = get_prices_on_date(sp_df, '2020-12-31')\n",
    "sp_roi = (sp_val_end - sp_val_start) / sp_val_end\n",
    "print(\"S&P ROI at End of 2020 : %2.2f %%\" % (sp_roi * 100))"
   ]
  },
  {
   "cell_type": "markdown",
   "metadata": {},
   "source": [
    "## Find Daily Return for Whole Portfolio"
   ]
  },
  {
   "cell_type": "markdown",
   "metadata": {},
   "source": [
    "To find the daily return for the whole portfolio, I must multiply the daily price by the number of shares for each security. Then sum those values for all stocks per day. This creates a portfolio list of daily prices. Then I can calculate the daily return."
   ]
  },
  {
   "cell_type": "code",
   "execution_count": 117,
   "metadata": {},
   "outputs": [],
   "source": [
    "def get_port_daily_return(sdate, edate, shares, tickers):\n",
    "    # Merge all daily prices for all stocks into 1 dataframe\n",
    "    mult_df = merge_df_by_column_name('Adj Close',  sdate, \n",
    "                                  edate, *port_list)\n",
    "    \n",
    "    # Get the number of stocks in portfolio\n",
    "    num_cols = len(mult_df.columns)\n",
    "    \n",
    "    # Multiply each stock column by the number of shares\n",
    "    i = 0\n",
    "    while i < num_cols:\n",
    "        mult_df[tickers[i]] = mult_df[tickers[i]].apply(lambda x: x * shares[i])\n",
    "        i += 1\n",
    "        \n",
    "    # Create a new column with the sums of all stocks named Total\n",
    "    mult_df['Total'] = mult_df.iloc[:, 0:num_cols].sum(axis=1)\n",
    "    \n",
    "    # Add column for portfolio daily return\n",
    "    mult_df['daily_return'] = (mult_df['Total'] / mult_df['Total'].shift(1)) - 1\n",
    "    \n",
    "    return mult_df"
   ]
  },
  {
   "cell_type": "code",
   "execution_count": 118,
   "metadata": {
    "scrolled": true
   },
   "outputs": [
    {
     "data": {
      "text/html": [
       "<div>\n",
       "<style scoped>\n",
       "    .dataframe tbody tr th:only-of-type {\n",
       "        vertical-align: middle;\n",
       "    }\n",
       "\n",
       "    .dataframe tbody tr th {\n",
       "        vertical-align: top;\n",
       "    }\n",
       "\n",
       "    .dataframe thead th {\n",
       "        text-align: right;\n",
       "    }\n",
       "</style>\n",
       "<table border=\"1\" class=\"dataframe\">\n",
       "  <thead>\n",
       "    <tr style=\"text-align: right;\">\n",
       "      <th></th>\n",
       "      <th>GNRC</th>\n",
       "      <th>CPRT</th>\n",
       "      <th>ODFL</th>\n",
       "      <th>AMD</th>\n",
       "      <th>PAYC</th>\n",
       "      <th>CHTR</th>\n",
       "      <th>MKC</th>\n",
       "      <th>PG</th>\n",
       "      <th>PGR</th>\n",
       "      <th>NEM</th>\n",
       "      <th>CCI</th>\n",
       "      <th>COG</th>\n",
       "      <th>Total</th>\n",
       "      <th>daily_return</th>\n",
       "    </tr>\n",
       "    <tr>\n",
       "      <th>Date</th>\n",
       "      <th></th>\n",
       "      <th></th>\n",
       "      <th></th>\n",
       "      <th></th>\n",
       "      <th></th>\n",
       "      <th></th>\n",
       "      <th></th>\n",
       "      <th></th>\n",
       "      <th></th>\n",
       "      <th></th>\n",
       "      <th></th>\n",
       "      <th></th>\n",
       "      <th></th>\n",
       "      <th></th>\n",
       "    </tr>\n",
       "  </thead>\n",
       "  <tbody>\n",
       "    <tr>\n",
       "      <th>2020-01-02</th>\n",
       "      <td>2550.250053</td>\n",
       "      <td>1869.600067</td>\n",
       "      <td>2801.878052</td>\n",
       "      <td>1276.599960</td>\n",
       "      <td>271.799988</td>\n",
       "      <td>490.429993</td>\n",
       "      <td>327.721405</td>\n",
       "      <td>118.208862</td>\n",
       "      <td>341.399498</td>\n",
       "      <td>1168.771851</td>\n",
       "      <td>405.909119</td>\n",
       "      <td>115.724598</td>\n",
       "      <td>11738.293446</td>\n",
       "      <td>NaN</td>\n",
       "    </tr>\n",
       "    <tr>\n",
       "      <th>2020-01-03</th>\n",
       "      <td>2541.749954</td>\n",
       "      <td>1853.200073</td>\n",
       "      <td>2768.464981</td>\n",
       "      <td>1263.599960</td>\n",
       "      <td>272.709991</td>\n",
       "      <td>494.470001</td>\n",
       "      <td>332.944458</td>\n",
       "      <td>117.413841</td>\n",
       "      <td>341.353569</td>\n",
       "      <td>1158.225388</td>\n",
       "      <td>408.143738</td>\n",
       "      <td>116.060427</td>\n",
       "      <td>11668.336382</td>\n",
       "      <td>-0.005960</td>\n",
       "    </tr>\n",
       "    <tr>\n",
       "      <th>2020-01-06</th>\n",
       "      <td>2531.250000</td>\n",
       "      <td>1869.799957</td>\n",
       "      <td>2746.578781</td>\n",
       "      <td>1258.139984</td>\n",
       "      <td>278.089996</td>\n",
       "      <td>497.450012</td>\n",
       "      <td>334.939789</td>\n",
       "      <td>117.576675</td>\n",
       "      <td>347.554169</td>\n",
       "      <td>1169.853424</td>\n",
       "      <td>404.705795</td>\n",
       "      <td>117.000742</td>\n",
       "      <td>11672.939325</td>\n",
       "      <td>0.000394</td>\n",
       "    </tr>\n",
       "    <tr>\n",
       "      <th>2020-01-07</th>\n",
       "      <td>2572.500038</td>\n",
       "      <td>1867.400055</td>\n",
       "      <td>2754.457840</td>\n",
       "      <td>1254.500000</td>\n",
       "      <td>279.489990</td>\n",
       "      <td>499.160004</td>\n",
       "      <td>329.188568</td>\n",
       "      <td>116.848701</td>\n",
       "      <td>344.899635</td>\n",
       "      <td>1169.042191</td>\n",
       "      <td>397.858521</td>\n",
       "      <td>117.672400</td>\n",
       "      <td>11703.017942</td>\n",
       "      <td>0.002577</td>\n",
       "    </tr>\n",
       "    <tr>\n",
       "      <th>2020-01-08</th>\n",
       "      <td>2500.749969</td>\n",
       "      <td>1880.200043</td>\n",
       "      <td>2767.443634</td>\n",
       "      <td>1243.580048</td>\n",
       "      <td>283.119995</td>\n",
       "      <td>500.769989</td>\n",
       "      <td>327.428009</td>\n",
       "      <td>117.346779</td>\n",
       "      <td>346.937981</td>\n",
       "      <td>1137.943588</td>\n",
       "      <td>399.520248</td>\n",
       "      <td>113.172350</td>\n",
       "      <td>11618.212633</td>\n",
       "      <td>-0.007246</td>\n",
       "    </tr>\n",
       "    <tr>\n",
       "      <th>...</th>\n",
       "      <td>...</td>\n",
       "      <td>...</td>\n",
       "      <td>...</td>\n",
       "      <td>...</td>\n",
       "      <td>...</td>\n",
       "      <td>...</td>\n",
       "      <td>...</td>\n",
       "      <td>...</td>\n",
       "      <td>...</td>\n",
       "      <td>...</td>\n",
       "      <td>...</td>\n",
       "      <td>...</td>\n",
       "      <td>...</td>\n",
       "      <td>...</td>\n",
       "    </tr>\n",
       "    <tr>\n",
       "      <th>2020-12-24</th>\n",
       "      <td>5829.999924</td>\n",
       "      <td>2474.199982</td>\n",
       "      <td>4354.264801</td>\n",
       "      <td>2387.059937</td>\n",
       "      <td>462.130005</td>\n",
       "      <td>656.489990</td>\n",
       "      <td>369.677307</td>\n",
       "      <td>135.173843</td>\n",
       "      <td>467.704163</td>\n",
       "      <td>1664.569366</td>\n",
       "      <td>455.012192</td>\n",
       "      <td>116.410582</td>\n",
       "      <td>19372.692091</td>\n",
       "      <td>0.012335</td>\n",
       "    </tr>\n",
       "    <tr>\n",
       "      <th>2020-12-28</th>\n",
       "      <td>5825.999832</td>\n",
       "      <td>2534.400024</td>\n",
       "      <td>4280.906738</td>\n",
       "      <td>2381.599960</td>\n",
       "      <td>463.589996</td>\n",
       "      <td>651.900024</td>\n",
       "      <td>369.479523</td>\n",
       "      <td>136.116104</td>\n",
       "      <td>466.800270</td>\n",
       "      <td>1646.404465</td>\n",
       "      <td>461.660065</td>\n",
       "      <td>113.249495</td>\n",
       "      <td>19332.106497</td>\n",
       "      <td>-0.002095</td>\n",
       "    </tr>\n",
       "    <tr>\n",
       "      <th>2020-12-29</th>\n",
       "      <td>5534.249878</td>\n",
       "      <td>2518.399963</td>\n",
       "      <td>4263.775299</td>\n",
       "      <td>2356.120071</td>\n",
       "      <td>447.589996</td>\n",
       "      <td>664.979980</td>\n",
       "      <td>375.016571</td>\n",
       "      <td>135.860901</td>\n",
       "      <td>464.754562</td>\n",
       "      <td>1643.927292</td>\n",
       "      <td>460.360016</td>\n",
       "      <td>110.500713</td>\n",
       "      <td>18975.535244</td>\n",
       "      <td>-0.018445</td>\n",
       "    </tr>\n",
       "    <tr>\n",
       "      <th>2020-12-30</th>\n",
       "      <td>5729.750061</td>\n",
       "      <td>2530.800018</td>\n",
       "      <td>4252.573547</td>\n",
       "      <td>2399.540024</td>\n",
       "      <td>447.910004</td>\n",
       "      <td>653.489990</td>\n",
       "      <td>375.334137</td>\n",
       "      <td>135.222931</td>\n",
       "      <td>463.422470</td>\n",
       "      <td>1662.092300</td>\n",
       "      <td>462.073746</td>\n",
       "      <td>113.180775</td>\n",
       "      <td>19225.390003</td>\n",
       "      <td>0.013167</td>\n",
       "    </tr>\n",
       "    <tr>\n",
       "      <th>2020-12-31</th>\n",
       "      <td>5685.250092</td>\n",
       "      <td>2545.000000</td>\n",
       "      <td>4286.836426</td>\n",
       "      <td>2384.459976</td>\n",
       "      <td>452.250000</td>\n",
       "      <td>661.549988</td>\n",
       "      <td>379.462189</td>\n",
       "      <td>136.567596</td>\n",
       "      <td>470.415878</td>\n",
       "      <td>1648.330917</td>\n",
       "      <td>470.346680</td>\n",
       "      <td>111.875097</td>\n",
       "      <td>19232.344839</td>\n",
       "      <td>0.000362</td>\n",
       "    </tr>\n",
       "  </tbody>\n",
       "</table>\n",
       "<p>253 rows × 14 columns</p>\n",
       "</div>"
      ],
      "text/plain": [
       "                   GNRC         CPRT         ODFL          AMD        PAYC  \\\n",
       "Date                                                                         \n",
       "2020-01-02  2550.250053  1869.600067  2801.878052  1276.599960  271.799988   \n",
       "2020-01-03  2541.749954  1853.200073  2768.464981  1263.599960  272.709991   \n",
       "2020-01-06  2531.250000  1869.799957  2746.578781  1258.139984  278.089996   \n",
       "2020-01-07  2572.500038  1867.400055  2754.457840  1254.500000  279.489990   \n",
       "2020-01-08  2500.749969  1880.200043  2767.443634  1243.580048  283.119995   \n",
       "...                 ...          ...          ...          ...         ...   \n",
       "2020-12-24  5829.999924  2474.199982  4354.264801  2387.059937  462.130005   \n",
       "2020-12-28  5825.999832  2534.400024  4280.906738  2381.599960  463.589996   \n",
       "2020-12-29  5534.249878  2518.399963  4263.775299  2356.120071  447.589996   \n",
       "2020-12-30  5729.750061  2530.800018  4252.573547  2399.540024  447.910004   \n",
       "2020-12-31  5685.250092  2545.000000  4286.836426  2384.459976  452.250000   \n",
       "\n",
       "                  CHTR         MKC          PG         PGR          NEM  \\\n",
       "Date                                                                      \n",
       "2020-01-02  490.429993  327.721405  118.208862  341.399498  1168.771851   \n",
       "2020-01-03  494.470001  332.944458  117.413841  341.353569  1158.225388   \n",
       "2020-01-06  497.450012  334.939789  117.576675  347.554169  1169.853424   \n",
       "2020-01-07  499.160004  329.188568  116.848701  344.899635  1169.042191   \n",
       "2020-01-08  500.769989  327.428009  117.346779  346.937981  1137.943588   \n",
       "...                ...         ...         ...         ...          ...   \n",
       "2020-12-24  656.489990  369.677307  135.173843  467.704163  1664.569366   \n",
       "2020-12-28  651.900024  369.479523  136.116104  466.800270  1646.404465   \n",
       "2020-12-29  664.979980  375.016571  135.860901  464.754562  1643.927292   \n",
       "2020-12-30  653.489990  375.334137  135.222931  463.422470  1662.092300   \n",
       "2020-12-31  661.549988  379.462189  136.567596  470.415878  1648.330917   \n",
       "\n",
       "                   CCI         COG         Total  daily_return  \n",
       "Date                                                            \n",
       "2020-01-02  405.909119  115.724598  11738.293446           NaN  \n",
       "2020-01-03  408.143738  116.060427  11668.336382     -0.005960  \n",
       "2020-01-06  404.705795  117.000742  11672.939325      0.000394  \n",
       "2020-01-07  397.858521  117.672400  11703.017942      0.002577  \n",
       "2020-01-08  399.520248  113.172350  11618.212633     -0.007246  \n",
       "...                ...         ...           ...           ...  \n",
       "2020-12-24  455.012192  116.410582  19372.692091      0.012335  \n",
       "2020-12-28  461.660065  113.249495  19332.106497     -0.002095  \n",
       "2020-12-29  460.360016  110.500713  18975.535244     -0.018445  \n",
       "2020-12-30  462.073746  113.180775  19225.390003      0.013167  \n",
       "2020-12-31  470.346680  111.875097  19232.344839      0.000362  \n",
       "\n",
       "[253 rows x 14 columns]"
      ]
     },
     "execution_count": 118,
     "metadata": {},
     "output_type": "execute_result"
    }
   ],
   "source": [
    "tot_port_df = get_port_daily_return('2020-01-02', '2020-12-31', \n",
    "                                    port_shares, port_list)\n",
    "tot_port_df"
   ]
  },
  {
   "cell_type": "markdown",
   "metadata": {},
   "source": [
    "## Find Portfolio Beta"
   ]
  },
  {
   "cell_type": "code",
   "execution_count": 119,
   "metadata": {},
   "outputs": [],
   "source": [
    "def find_port_beta(port_df, sdate, edate):\n",
    "    # Will hold data for S&P and my portfolio\n",
    "    mult_df = pd.DataFrame()\n",
    "    \n",
    "    # Mask defining the dates worth of data that we want\n",
    "    port_mask = (port_df.index >= sdate) & (port_df.index <= edate)\n",
    "    \n",
    "    # Get S&P Dataframe\n",
    "    sp_df = get_df_from_csv('GSPC')\n",
    "    \n",
    "    sp_mask = (sp_df.index >= sdate) & (sp_df.index <= edate)\n",
    "    \n",
    "    # Add S&P daily return to dataframe\n",
    "    mult_df['GSPC'] = sp_df.loc[sp_mask]['daily_return']\n",
    "    \n",
    "    # Add the portfolio daily return data\n",
    "    mult_df['Portfolio'] = port_df.loc[port_mask]['daily_return']\n",
    "    \n",
    "    # Provides the covariance between the securities\n",
    "    cov = mult_df.cov() * 252\n",
    "    \n",
    "    # Get the covariance of the stocks and the market\n",
    "    cov_vs_market = cov.iloc[0,1]\n",
    "    \n",
    "    # Get annualized variance of the S&P\n",
    "    sp_var = mult_df['GSPC'].var() * 252\n",
    "    \n",
    "    # Beta is normally calculated over a 5 year period which is why you may see a difference\n",
    "    beta = cov_vs_market / sp_var\n",
    "    return beta"
   ]
  },
  {
   "cell_type": "markdown",
   "metadata": {},
   "source": [
    "## Calculating Alpha"
   ]
  },
  {
   "cell_type": "markdown",
   "metadata": {},
   "source": [
    "Alpha provides a measure of how well a portfolio has performed. The CAPM assumes an Alpha of 0. Good portfolios have a positive Alpha, while poor have negative. \n",
    "\n",
    "Alpha = R – Rf – beta (Rm-Rf)\n",
    "\n",
    "* R represents the portfolio return\n",
    "* Rf represents the risk-free rate of return\n",
    "* Beta represents the systematic risk of a portfolio\n",
    "* Rm represents the market return, per a benchmark"
   ]
  },
  {
   "cell_type": "code",
   "execution_count": 120,
   "metadata": {},
   "outputs": [
    {
     "data": {
      "text/plain": [
       "0.9132983282237106"
      ]
     },
     "execution_count": 120,
     "metadata": {},
     "output_type": "execute_result"
    }
   ],
   "source": [
    "port_beta = find_port_beta(tot_port_df, '2020-01-02', '2020-12-31')\n",
    "port_beta"
   ]
  },
  {
   "cell_type": "code",
   "execution_count": 121,
   "metadata": {},
   "outputs": [
    {
     "name": "stdout",
     "output_type": "stream",
     "text": [
      "Portfolio Alpha : 26.74 %\n"
     ]
    }
   ],
   "source": [
    "port_alpha = roi_port - risk_free_rate - (port_beta * (sp_roi - risk_free_rate))\n",
    "print(\"Portfolio Alpha : %2.2f %%\" % (port_alpha * 100))"
   ]
  },
  {
   "cell_type": "markdown",
   "metadata": {},
   "source": [
    "This means our portfolio outperformed the market in 2020 by 26.74%"
   ]
  },
  {
   "cell_type": "markdown",
   "metadata": {},
   "source": [
    "## Get Old Data for Portfolio"
   ]
  },
  {
   "cell_type": "code",
   "execution_count": 122,
   "metadata": {
    "scrolled": true
   },
   "outputs": [
    {
     "data": {
      "text/html": [
       "<div>\n",
       "<style scoped>\n",
       "    .dataframe tbody tr th:only-of-type {\n",
       "        vertical-align: middle;\n",
       "    }\n",
       "\n",
       "    .dataframe tbody tr th {\n",
       "        vertical-align: top;\n",
       "    }\n",
       "\n",
       "    .dataframe thead th {\n",
       "        text-align: right;\n",
       "    }\n",
       "</style>\n",
       "<table border=\"1\" class=\"dataframe\">\n",
       "  <thead>\n",
       "    <tr style=\"text-align: right;\">\n",
       "      <th></th>\n",
       "      <th>GNRC</th>\n",
       "      <th>CPRT</th>\n",
       "      <th>ODFL</th>\n",
       "      <th>AMD</th>\n",
       "      <th>PAYC</th>\n",
       "      <th>CHTR</th>\n",
       "      <th>MKC</th>\n",
       "      <th>PG</th>\n",
       "      <th>PGR</th>\n",
       "      <th>NEM</th>\n",
       "      <th>CCI</th>\n",
       "      <th>COG</th>\n",
       "      <th>Total</th>\n",
       "      <th>daily_return</th>\n",
       "    </tr>\n",
       "    <tr>\n",
       "      <th>Date</th>\n",
       "      <th></th>\n",
       "      <th></th>\n",
       "      <th></th>\n",
       "      <th></th>\n",
       "      <th></th>\n",
       "      <th></th>\n",
       "      <th></th>\n",
       "      <th></th>\n",
       "      <th></th>\n",
       "      <th></th>\n",
       "      <th></th>\n",
       "      <th></th>\n",
       "      <th></th>\n",
       "      <th></th>\n",
       "    </tr>\n",
       "  </thead>\n",
       "  <tbody>\n",
       "    <tr>\n",
       "      <th>2017-01-03</th>\n",
       "      <td>1048.499966</td>\n",
       "      <td>557.200012</td>\n",
       "      <td>1251.128479</td>\n",
       "      <td>297.180008</td>\n",
       "      <td>46.470001</td>\n",
       "      <td>285.769989</td>\n",
       "      <td>173.972595</td>\n",
       "      <td>73.476089</td>\n",
       "      <td>150.439453</td>\n",
       "      <td>879.123833</td>\n",
       "      <td>222.305031</td>\n",
       "      <td>145.098261</td>\n",
       "      <td>5130.663717</td>\n",
       "      <td>NaN</td>\n",
       "    </tr>\n",
       "    <tr>\n",
       "      <th>2017-01-04</th>\n",
       "      <td>1050.000000</td>\n",
       "      <td>564.599991</td>\n",
       "      <td>1256.318550</td>\n",
       "      <td>297.180008</td>\n",
       "      <td>47.340000</td>\n",
       "      <td>291.549988</td>\n",
       "      <td>173.470673</td>\n",
       "      <td>73.737885</td>\n",
       "      <td>151.794395</td>\n",
       "      <td>887.501060</td>\n",
       "      <td>223.636803</td>\n",
       "      <td>145.293098</td>\n",
       "      <td>5162.422451</td>\n",
       "      <td>0.006190</td>\n",
       "    </tr>\n",
       "    <tr>\n",
       "      <th>2017-01-05</th>\n",
       "      <td>1027.999973</td>\n",
       "      <td>564.000015</td>\n",
       "      <td>1241.469070</td>\n",
       "      <td>292.239994</td>\n",
       "      <td>47.000000</td>\n",
       "      <td>296.170013</td>\n",
       "      <td>170.068909</td>\n",
       "      <td>74.226555</td>\n",
       "      <td>151.752033</td>\n",
       "      <td>928.373077</td>\n",
       "      <td>223.431931</td>\n",
       "      <td>147.046730</td>\n",
       "      <td>5163.778301</td>\n",
       "      <td>0.000263</td>\n",
       "    </tr>\n",
       "    <tr>\n",
       "      <th>2017-01-06</th>\n",
       "      <td>1017.749977</td>\n",
       "      <td>566.800003</td>\n",
       "      <td>1241.324806</td>\n",
       "      <td>294.319992</td>\n",
       "      <td>47.490002</td>\n",
       "      <td>298.160004</td>\n",
       "      <td>169.901672</td>\n",
       "      <td>74.200378</td>\n",
       "      <td>152.556515</td>\n",
       "      <td>899.178818</td>\n",
       "      <td>218.975624</td>\n",
       "      <td>148.670479</td>\n",
       "      <td>5129.328270</td>\n",
       "      <td>-0.006671</td>\n",
       "    </tr>\n",
       "    <tr>\n",
       "      <th>2017-01-09</th>\n",
       "      <td>1007.250023</td>\n",
       "      <td>565.299988</td>\n",
       "      <td>1234.548836</td>\n",
       "      <td>298.739994</td>\n",
       "      <td>48.400002</td>\n",
       "      <td>296.260010</td>\n",
       "      <td>167.559433</td>\n",
       "      <td>73.650635</td>\n",
       "      <td>151.243935</td>\n",
       "      <td>897.655685</td>\n",
       "      <td>219.564629</td>\n",
       "      <td>143.474499</td>\n",
       "      <td>5103.647667</td>\n",
       "      <td>-0.005007</td>\n",
       "    </tr>\n",
       "    <tr>\n",
       "      <th>...</th>\n",
       "      <td>...</td>\n",
       "      <td>...</td>\n",
       "      <td>...</td>\n",
       "      <td>...</td>\n",
       "      <td>...</td>\n",
       "      <td>...</td>\n",
       "      <td>...</td>\n",
       "      <td>...</td>\n",
       "      <td>...</td>\n",
       "      <td>...</td>\n",
       "      <td>...</td>\n",
       "      <td>...</td>\n",
       "      <td>...</td>\n",
       "      <td>...</td>\n",
       "    </tr>\n",
       "    <tr>\n",
       "      <th>2020-12-24</th>\n",
       "      <td>5829.999924</td>\n",
       "      <td>2474.199982</td>\n",
       "      <td>4354.264801</td>\n",
       "      <td>2387.059937</td>\n",
       "      <td>462.130005</td>\n",
       "      <td>656.489990</td>\n",
       "      <td>369.677307</td>\n",
       "      <td>135.173843</td>\n",
       "      <td>467.704163</td>\n",
       "      <td>1664.569366</td>\n",
       "      <td>455.012192</td>\n",
       "      <td>116.410582</td>\n",
       "      <td>19372.692091</td>\n",
       "      <td>0.012335</td>\n",
       "    </tr>\n",
       "    <tr>\n",
       "      <th>2020-12-28</th>\n",
       "      <td>5825.999832</td>\n",
       "      <td>2534.400024</td>\n",
       "      <td>4280.906738</td>\n",
       "      <td>2381.599960</td>\n",
       "      <td>463.589996</td>\n",
       "      <td>651.900024</td>\n",
       "      <td>369.479523</td>\n",
       "      <td>136.116104</td>\n",
       "      <td>466.800270</td>\n",
       "      <td>1646.404465</td>\n",
       "      <td>461.660065</td>\n",
       "      <td>113.249495</td>\n",
       "      <td>19332.106497</td>\n",
       "      <td>-0.002095</td>\n",
       "    </tr>\n",
       "    <tr>\n",
       "      <th>2020-12-29</th>\n",
       "      <td>5534.249878</td>\n",
       "      <td>2518.399963</td>\n",
       "      <td>4263.775299</td>\n",
       "      <td>2356.120071</td>\n",
       "      <td>447.589996</td>\n",
       "      <td>664.979980</td>\n",
       "      <td>375.016571</td>\n",
       "      <td>135.860901</td>\n",
       "      <td>464.754562</td>\n",
       "      <td>1643.927292</td>\n",
       "      <td>460.360016</td>\n",
       "      <td>110.500713</td>\n",
       "      <td>18975.535244</td>\n",
       "      <td>-0.018445</td>\n",
       "    </tr>\n",
       "    <tr>\n",
       "      <th>2020-12-30</th>\n",
       "      <td>5729.750061</td>\n",
       "      <td>2530.800018</td>\n",
       "      <td>4252.573547</td>\n",
       "      <td>2399.540024</td>\n",
       "      <td>447.910004</td>\n",
       "      <td>653.489990</td>\n",
       "      <td>375.334137</td>\n",
       "      <td>135.222931</td>\n",
       "      <td>463.422470</td>\n",
       "      <td>1662.092300</td>\n",
       "      <td>462.073746</td>\n",
       "      <td>113.180775</td>\n",
       "      <td>19225.390003</td>\n",
       "      <td>0.013167</td>\n",
       "    </tr>\n",
       "    <tr>\n",
       "      <th>2020-12-31</th>\n",
       "      <td>5685.250092</td>\n",
       "      <td>2545.000000</td>\n",
       "      <td>4286.836426</td>\n",
       "      <td>2384.459976</td>\n",
       "      <td>452.250000</td>\n",
       "      <td>661.549988</td>\n",
       "      <td>379.462189</td>\n",
       "      <td>136.567596</td>\n",
       "      <td>470.415878</td>\n",
       "      <td>1648.330917</td>\n",
       "      <td>470.346680</td>\n",
       "      <td>111.875097</td>\n",
       "      <td>19232.344839</td>\n",
       "      <td>0.000362</td>\n",
       "    </tr>\n",
       "  </tbody>\n",
       "</table>\n",
       "<p>1007 rows × 14 columns</p>\n",
       "</div>"
      ],
      "text/plain": [
       "                   GNRC         CPRT         ODFL          AMD        PAYC  \\\n",
       "Date                                                                         \n",
       "2017-01-03  1048.499966   557.200012  1251.128479   297.180008   46.470001   \n",
       "2017-01-04  1050.000000   564.599991  1256.318550   297.180008   47.340000   \n",
       "2017-01-05  1027.999973   564.000015  1241.469070   292.239994   47.000000   \n",
       "2017-01-06  1017.749977   566.800003  1241.324806   294.319992   47.490002   \n",
       "2017-01-09  1007.250023   565.299988  1234.548836   298.739994   48.400002   \n",
       "...                 ...          ...          ...          ...         ...   \n",
       "2020-12-24  5829.999924  2474.199982  4354.264801  2387.059937  462.130005   \n",
       "2020-12-28  5825.999832  2534.400024  4280.906738  2381.599960  463.589996   \n",
       "2020-12-29  5534.249878  2518.399963  4263.775299  2356.120071  447.589996   \n",
       "2020-12-30  5729.750061  2530.800018  4252.573547  2399.540024  447.910004   \n",
       "2020-12-31  5685.250092  2545.000000  4286.836426  2384.459976  452.250000   \n",
       "\n",
       "                  CHTR         MKC          PG         PGR          NEM  \\\n",
       "Date                                                                      \n",
       "2017-01-03  285.769989  173.972595   73.476089  150.439453   879.123833   \n",
       "2017-01-04  291.549988  173.470673   73.737885  151.794395   887.501060   \n",
       "2017-01-05  296.170013  170.068909   74.226555  151.752033   928.373077   \n",
       "2017-01-06  298.160004  169.901672   74.200378  152.556515   899.178818   \n",
       "2017-01-09  296.260010  167.559433   73.650635  151.243935   897.655685   \n",
       "...                ...         ...         ...         ...          ...   \n",
       "2020-12-24  656.489990  369.677307  135.173843  467.704163  1664.569366   \n",
       "2020-12-28  651.900024  369.479523  136.116104  466.800270  1646.404465   \n",
       "2020-12-29  664.979980  375.016571  135.860901  464.754562  1643.927292   \n",
       "2020-12-30  653.489990  375.334137  135.222931  463.422470  1662.092300   \n",
       "2020-12-31  661.549988  379.462189  136.567596  470.415878  1648.330917   \n",
       "\n",
       "                   CCI         COG         Total  daily_return  \n",
       "Date                                                            \n",
       "2017-01-03  222.305031  145.098261   5130.663717           NaN  \n",
       "2017-01-04  223.636803  145.293098   5162.422451      0.006190  \n",
       "2017-01-05  223.431931  147.046730   5163.778301      0.000263  \n",
       "2017-01-06  218.975624  148.670479   5129.328270     -0.006671  \n",
       "2017-01-09  219.564629  143.474499   5103.647667     -0.005007  \n",
       "...                ...         ...           ...           ...  \n",
       "2020-12-24  455.012192  116.410582  19372.692091      0.012335  \n",
       "2020-12-28  461.660065  113.249495  19332.106497     -0.002095  \n",
       "2020-12-29  460.360016  110.500713  18975.535244     -0.018445  \n",
       "2020-12-30  462.073746  113.180775  19225.390003      0.013167  \n",
       "2020-12-31  470.346680  111.875097  19232.344839      0.000362  \n",
       "\n",
       "[1007 rows x 14 columns]"
      ]
     },
     "execution_count": 122,
     "metadata": {},
     "output_type": "execute_result"
    }
   ],
   "source": [
    "# Remember These\n",
    "# port_list = [\"GNRC\", \"CPRT\", \"ODFL\", \"AMD\", \"PAYC\", \"CHTR\", \"MKC\", \n",
    "#              \"PG\", \"PGR\", \"NEM\", \"CCI\", \"COG\"]\n",
    "\n",
    "# port_shares = [25, 20, 22, 26, 1, 1, 4, 1, 5, 28, 3, 7]\n",
    "\n",
    "tot_port_df = get_port_daily_return('2017-01-03', '2020-12-31', \n",
    "                                    port_shares, port_list)\n",
    "tot_port_df"
   ]
  },
  {
   "cell_type": "markdown",
   "metadata": {},
   "source": [
    "## Forecasting"
   ]
  },
  {
   "cell_type": "markdown",
   "metadata": {},
   "source": [
    "You are going to choose different models depending upon the data you have. We will train our model on the first group of data (Training Data : 1st 80%). Then we test the model using the last part of our data (Test Date : Last 20%). All along we are modeling using real known true results. We should forecast into the future the same length of time we test for."
   ]
  },
  {
   "cell_type": "markdown",
   "metadata": {},
   "source": [
    "## ARIMA Model (Auto Regression)"
   ]
  },
  {
   "cell_type": "markdown",
   "metadata": {},
   "source": [
    "AutoRegressive Integrated Moving Average (ARIMA) is the basis for many other models. It focuses on trying to fit the data as well as possible by examining differences between values instead of the values themselves.\n",
    "\n",
    "ARIMA works very well when data values have a clear trend and seasonality. We can only make predictions based on the data we have. Any outside effects not in the data can't be used to make predictions. For example we could make predictions on stock prices, but since we don't know when a recession may occur that event can't be modeled.\n",
    "\n",
    "There is a seasonal (SARIMA) and a non-seasonal ARIMA. There is also SARIMAX which focuses on exogenous, or external factors. It differs from ARIMA in that it has a set of parameters (P, D, and Q) that focus on seasonality.\n",
    "\n",
    "AR (Autoregressions) refers to a model that regresses based on prior values."
   ]
  },
  {
   "cell_type": "markdown",
   "metadata": {},
   "source": [
    "## Regression Time Series Example with Our Portfolio"
   ]
  },
  {
   "cell_type": "code",
   "execution_count": 123,
   "metadata": {},
   "outputs": [
    {
     "name": "stdout",
     "output_type": "stream",
     "text": [
      "Lags : [ 1  2  3  4  5  6  7  8  9 10 11 12 13 14]\n",
      "Observations : 1459\n"
     ]
    },
    {
     "data": {
      "image/png": "[encoded data removed]",
      "text/plain": [
       "<Figure size 1368x936 with 1 Axes>"
      ]
     },
     "metadata": {},
     "output_type": "display_data"
    }
   ],
   "source": [
    "# Change frequency to day\n",
    "tot_port_df = tot_port_df.asfreq('d')\n",
    "tot_port_df.index\n",
    "\n",
    "# Delete NaNs for nontrading days\n",
    "tot_port_df = tot_port_df.fillna(method='ffill') # Fill in missing values using previous\n",
    "\n",
    "tot_port_df\n",
    "\n",
    "# Delete all unneeded columns\n",
    "del_col = [\"GNRC\", \"CPRT\", \"ODFL\", \"AMD\", \"PAYC\", \"CHTR\", \"MKC\", \n",
    "             \"PG\", \"PGR\", \"NEM\", \"CCI\", \"COG\", \"daily_return\"]\n",
    "for x in del_col:\n",
    "    tot_port_df = tot_port_df.drop([x], axis=1)\n",
    "\n",
    "# Set style for seaborn plot\n",
    "sns.set_style('darkgrid')\n",
    "# Add automatic datetime converters\n",
    "pd.plotting.register_matplotlib_converters()\n",
    "# Default figure size\n",
    "sns.mpl.rc('figure',figsize=(19, 13))\n",
    "\n",
    "# Set fig and ax\n",
    "fig, ax = plt.subplots()\n",
    "\n",
    "# Figure out optimum lags for this data set\n",
    "lags = ar_select_order(tot_port_df, maxlag=30)\n",
    "print(\"Lags :\", lags.ar_lags)\n",
    "\n",
    "# Create our model using whole data set\n",
    "model = AutoReg(tot_port_df['Total'], lags.ar_lags)\n",
    "model_fit = model.fit()\n",
    "\n",
    "# Define training and testing area\n",
    "print(\"Observations :\", len(tot_port_df)) # 1459 observations\n",
    "\n",
    "train_df = tot_port_df.iloc[0:1167] # First 80% \n",
    "test_df = tot_port_df.iloc[1167:] # Last 20%\n",
    "\n",
    "# Define training model for 459 days (Play with Number & Test)\n",
    "# and White's covariance estimator\n",
    "train_model = AutoReg(tot_port_df['Total'], 459).fit(cov_type=\"HC0\")\n",
    "\n",
    "# # Define start and end for prediction \n",
    "start = len(train_df)\n",
    "end = len(train_df) + len(test_df) - 1\n",
    "\n",
    "prediction = train_model.predict(start=start, end=end, dynamic=True)\n",
    "\n",
    "# Plot testing data with prediction\n",
    "ax = test_df.plot(ax=ax) # Orange\n",
    "ax = prediction.plot(ax=ax) # Green\n",
    "\n",
    "# Predict 100 days into the future\n",
    "forecast = train_model.predict(start=end, end=end+60, dynamic=True)\n",
    "ax = forecast.plot(ax=ax) # Green\n"
   ]
  }
 ],
 "metadata": {
  "kernelspec": {
   "display_name": "Python 3",
   "language": "python",
   "name": "python3"
  },
  "language_info": {
   "codemirror_mode": {
    "name": "ipython",
    "version": 3
   },
   "file_extension": ".py",
   "mimetype": "text/x-python",
   "name": "python",
   "nbconvert_exporter": "python",
   "pygments_lexer": "ipython3",
   "version": "3.7.6"
  }
 },
 "nbformat": 4,
 "nbformat_minor": 4
}
