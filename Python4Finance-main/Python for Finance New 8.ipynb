{
 "cells": [
  {
   "cell_type": "code",
   "execution_count": 4,
   "metadata": {},
   "outputs": [],
   "source": [
    "# Provides ways to work with large multidimensional arrays\n",
    "import numpy as np \n",
    "# Allows for further data manipulation and analysis\n",
    "import pandas as pd\n",
    "from pandas_datareader import data as web # Reads stock data \n",
    "import matplotlib.pyplot as plt # Plotting\n",
    "import matplotlib.dates as mdates # Styling dates\n",
    "%matplotlib inline\n",
    "\n",
    "import datetime as dt # For defining dates\n",
    "import mplfinance as mpf # Matplotlib finance\n",
    "\n",
    "import time\n",
    "\n",
    "# Used to get data from a directory\n",
    "import os\n",
    "from os import listdir\n",
    "from os.path import isfile, join\n",
    "\n",
    "#Statsmodels is a great library we can use to run regressions.\n",
    "import statsmodels.api as sm\n",
    "# Seaborn extends the capabilities of Matplotlib\n",
    "import seaborn as sns\n",
    "# Used for calculating regressions\n",
    "from statsmodels.tsa.ar_model import AutoReg, ar_select_order"
   ]
  },
  {
   "cell_type": "markdown",
   "metadata": {},
   "source": [
    "## Dates & Other Constants"
   ]
  },
  {
   "cell_type": "code",
   "execution_count": 5,
   "metadata": {},
   "outputs": [],
   "source": [
    "# Define path to files\n",
    "# For MacOS\n",
    "# PATH = \"/Users/derekbanas/Documents/Tutorials/Python for Finance/Stocks/\"\n",
    "# For Windows\n",
    "PATH = \"D:/Python for Finance/Stocks/\"\n",
    "\n",
    "# Start date defaults\n",
    "S_YEAR = 2017\n",
    "S_MONTH = 1\n",
    "S_DAY = 3\n",
    "S_DATE_STR = \"2017-01-03\"\n",
    "S_DATE_DATETIME = dt.datetime(S_YEAR, S_MONTH, S_DAY)\n",
    "\n",
    "# End date defaults\n",
    "E_YEAR = 2021\n",
    "E_MONTH = 8\n",
    "E_DAY = 19\n",
    "E_DATE_STR = \"2021-08-19\"\n",
    "E_DATE_DATETIME = dt.datetime(E_YEAR, E_MONTH, E_DAY)\n",
    "\n",
    "risk_free_rate = 0.0125 # Approximate 10 year bond rate"
   ]
  },
  {
   "cell_type": "markdown",
   "metadata": {},
   "source": [
    "## Get Stock File Names in a List"
   ]
  },
  {
   "cell_type": "code",
   "execution_count": 6,
   "metadata": {},
   "outputs": [
    {
     "data": {
      "text/plain": [
       "2887"
      ]
     },
     "execution_count": 6,
     "metadata": {},
     "output_type": "execute_result"
    }
   ],
   "source": [
    "files = [x for x in listdir(PATH) if isfile(join(PATH, x))]\n",
    "tickers = [os.path.splitext(x)[0] for x in files]\n",
    "tickers\n",
    "\n",
    "# On MacOS Only\n",
    "# tickers.remove('.DS_Store')\n",
    "# 2886 total stocks\n",
    "tickers.sort()\n",
    "len(tickers)"
   ]
  },
  {
   "cell_type": "markdown",
   "metadata": {},
   "source": [
    "## Function that Returns a Dataframe from a CSV"
   ]
  },
  {
   "cell_type": "code",
   "execution_count": 7,
   "metadata": {},
   "outputs": [],
   "source": [
    "def get_df_from_csv(ticker):\n",
    "    try:\n",
    "        df = pd.read_csv(PATH + ticker + '.csv', index_col='Date', \n",
    "                         parse_dates=True)\n",
    "    except FileNotFoundError:\n",
    "        pass\n",
    "        # print(\"File Doesn't Exist\")\n",
    "    else:\n",
    "        return df"
   ]
  },
  {
   "cell_type": "markdown",
   "metadata": {},
   "source": [
    "## Merge Multiple Stocks in One Dataframe by Column Name"
   ]
  },
  {
   "cell_type": "code",
   "execution_count": 8,
   "metadata": {},
   "outputs": [],
   "source": [
    "def merge_df_by_column_name(col_name, sdate, edate, *tickers):\n",
    "    # Will hold data for all dataframes with the same column name\n",
    "    mult_df = pd.DataFrame()\n",
    "    \n",
    "    for x in tickers:\n",
    "        df = get_df_from_csv(x)\n",
    "        mask = (df.index >= sdate) & (df.index <= edate)\n",
    "        mult_df[x] = df.loc[mask][col_name]\n",
    "        \n",
    "    return mult_df"
   ]
  },
  {
   "cell_type": "markdown",
   "metadata": {},
   "source": [
    "## Markowitz Portfolio Optimization"
   ]
  },
  {
   "cell_type": "markdown",
   "metadata": {},
   "source": [
    "Harry Markowitz proved that you could make what is called an efficient portfolio. That is a portfolio that optimizes return while also minimizing risk. We don't benefit from analyzing individual securities at the same rate as if we instead considered a portfolio of stocks.\n",
    "\n",
    "We do this by creating portfolios with stocks that are not correlated. We want to calculate expected returns by analyzing the returns of each stock multiplied by its weight. \n",
    "\n",
    "$w_1r_1 + w_2r_2 = r_p$\n",
    "\n",
    "The standard deviation of the portfolio is found this way. Sum multiple calculations starting by finding the product of the first securities weight squared times its standard deviation squared. The middle is 2 times the correlation coefficient between the stocks. And, finally add those to the weight squared times the standard deviation squared for the second security.\n",
    "\n",
    "$(w_1\\sigma_1 + w_2\\sigma_2)^2 = w_1^2\\sigma_1^2 + 2w_1\\sigma_1w_2\\sigma_2\\rho_1 + w_2^2\\sigma_2^2$"
   ]
  },
  {
   "cell_type": "markdown",
   "metadata": {},
   "source": [
    "## Plotting an Efficient Frontier"
   ]
  },
  {
   "cell_type": "markdown",
   "metadata": {},
   "source": [
    "## Stock Portfolio"
   ]
  },
  {
   "cell_type": "code",
   "execution_count": 28,
   "metadata": {},
   "outputs": [
    {
     "data": {
      "text/plain": [
       "12"
      ]
     },
     "execution_count": 28,
     "metadata": {},
     "output_type": "execute_result"
    }
   ],
   "source": [
    "# Here I added the top 30 for each sector. You can obviously add as many as \n",
    "# you like\n",
    "# Then to keep the portfolio smaller I eliminated stocks that had an \n",
    "# allocation less than 1% to get this final list\n",
    "# I showed in part 4 of this series how to get the top sector stocks\n",
    "port_list = [\"GNRC\", \"CPRT\", \"ODFL\", \n",
    "            \"AMD\", \"PAYC\",\n",
    "            \"CHTR\",\n",
    "            \"MKC\", \"PG\",\n",
    "            \"PGR\",\n",
    "            \"NEM\",\n",
    "            \"CCI\",\n",
    "            \"COG\"]\n",
    "num_stocks = len(port_list)\n",
    "num_stocks"
   ]
  },
  {
   "cell_type": "markdown",
   "metadata": {},
   "source": [
    "## Merge all Stock Price Data"
   ]
  },
  {
   "cell_type": "code",
   "execution_count": 10,
   "metadata": {},
   "outputs": [
    {
     "data": {
      "text/html": [
       "<div>\n",
       "<style scoped>\n",
       "    .dataframe tbody tr th:only-of-type {\n",
       "        vertical-align: middle;\n",
       "    }\n",
       "\n",
       "    .dataframe tbody tr th {\n",
       "        vertical-align: top;\n",
       "    }\n",
       "\n",
       "    .dataframe thead th {\n",
       "        text-align: right;\n",
       "    }\n",
       "</style>\n",
       "<table border=\"1\" class=\"dataframe\">\n",
       "  <thead>\n",
       "    <tr style=\"text-align: right;\">\n",
       "      <th></th>\n",
       "      <th>GNRC</th>\n",
       "      <th>CPRT</th>\n",
       "      <th>ODFL</th>\n",
       "      <th>AMD</th>\n",
       "      <th>PAYC</th>\n",
       "      <th>CHTR</th>\n",
       "      <th>MKC</th>\n",
       "      <th>PG</th>\n",
       "      <th>PGR</th>\n",
       "      <th>NEM</th>\n",
       "      <th>CCI</th>\n",
       "      <th>COG</th>\n",
       "    </tr>\n",
       "    <tr>\n",
       "      <th>Date</th>\n",
       "      <th></th>\n",
       "      <th></th>\n",
       "      <th></th>\n",
       "      <th></th>\n",
       "      <th></th>\n",
       "      <th></th>\n",
       "      <th></th>\n",
       "      <th></th>\n",
       "      <th></th>\n",
       "      <th></th>\n",
       "      <th></th>\n",
       "      <th></th>\n",
       "    </tr>\n",
       "  </thead>\n",
       "  <tbody>\n",
       "    <tr>\n",
       "      <th>2018-01-02</th>\n",
       "      <td>48.029999</td>\n",
       "      <td>43.599998</td>\n",
       "      <td>88.451561</td>\n",
       "      <td>10.980000</td>\n",
       "      <td>80.440002</td>\n",
       "      <td>348.970001</td>\n",
       "      <td>47.967422</td>\n",
       "      <td>81.579140</td>\n",
       "      <td>47.749058</td>\n",
       "      <td>34.842434</td>\n",
       "      <td>96.650520</td>\n",
       "      <td>26.996706</td>\n",
       "    </tr>\n",
       "    <tr>\n",
       "      <th>2018-01-03</th>\n",
       "      <td>49.730000</td>\n",
       "      <td>43.389999</td>\n",
       "      <td>88.543671</td>\n",
       "      <td>11.550000</td>\n",
       "      <td>81.029999</td>\n",
       "      <td>353.029999</td>\n",
       "      <td>48.081146</td>\n",
       "      <td>81.480141</td>\n",
       "      <td>47.723183</td>\n",
       "      <td>34.550255</td>\n",
       "      <td>96.242355</td>\n",
       "      <td>27.118145</td>\n",
       "    </tr>\n",
       "    <tr>\n",
       "      <th>2018-01-04</th>\n",
       "      <td>50.070000</td>\n",
       "      <td>43.740002</td>\n",
       "      <td>89.063423</td>\n",
       "      <td>12.120000</td>\n",
       "      <td>83.110001</td>\n",
       "      <td>349.790009</td>\n",
       "      <td>48.384403</td>\n",
       "      <td>82.056091</td>\n",
       "      <td>47.714550</td>\n",
       "      <td>34.933739</td>\n",
       "      <td>95.124413</td>\n",
       "      <td>27.006050</td>\n",
       "    </tr>\n",
       "    <tr>\n",
       "      <th>2018-01-05</th>\n",
       "      <td>50.410000</td>\n",
       "      <td>43.529999</td>\n",
       "      <td>89.872673</td>\n",
       "      <td>11.880000</td>\n",
       "      <td>83.879997</td>\n",
       "      <td>350.880005</td>\n",
       "      <td>48.858246</td>\n",
       "      <td>82.110107</td>\n",
       "      <td>47.895683</td>\n",
       "      <td>35.061573</td>\n",
       "      <td>95.851990</td>\n",
       "      <td>26.865927</td>\n",
       "    </tr>\n",
       "    <tr>\n",
       "      <th>2018-01-08</th>\n",
       "      <td>49.529999</td>\n",
       "      <td>43.549999</td>\n",
       "      <td>90.767464</td>\n",
       "      <td>12.280000</td>\n",
       "      <td>84.639999</td>\n",
       "      <td>356.549988</td>\n",
       "      <td>48.910378</td>\n",
       "      <td>82.542084</td>\n",
       "      <td>48.042313</td>\n",
       "      <td>35.025055</td>\n",
       "      <td>96.135902</td>\n",
       "      <td>27.006050</td>\n",
       "    </tr>\n",
       "    <tr>\n",
       "      <th>...</th>\n",
       "      <td>...</td>\n",
       "      <td>...</td>\n",
       "      <td>...</td>\n",
       "      <td>...</td>\n",
       "      <td>...</td>\n",
       "      <td>...</td>\n",
       "      <td>...</td>\n",
       "      <td>...</td>\n",
       "      <td>...</td>\n",
       "      <td>...</td>\n",
       "      <td>...</td>\n",
       "      <td>...</td>\n",
       "    </tr>\n",
       "    <tr>\n",
       "      <th>2021-08-26</th>\n",
       "      <td>427.470001</td>\n",
       "      <td>142.970001</td>\n",
       "      <td>286.100006</td>\n",
       "      <td>107.269997</td>\n",
       "      <td>481.149994</td>\n",
       "      <td>797.400024</td>\n",
       "      <td>84.930000</td>\n",
       "      <td>142.419998</td>\n",
       "      <td>96.230003</td>\n",
       "      <td>56.630001</td>\n",
       "      <td>189.729996</td>\n",
       "      <td>14.710000</td>\n",
       "    </tr>\n",
       "    <tr>\n",
       "      <th>2021-08-27</th>\n",
       "      <td>437.109985</td>\n",
       "      <td>144.440002</td>\n",
       "      <td>289.779999</td>\n",
       "      <td>111.400002</td>\n",
       "      <td>484.700012</td>\n",
       "      <td>807.179993</td>\n",
       "      <td>85.220001</td>\n",
       "      <td>142.309998</td>\n",
       "      <td>97.489998</td>\n",
       "      <td>58.189999</td>\n",
       "      <td>190.970001</td>\n",
       "      <td>15.630000</td>\n",
       "    </tr>\n",
       "    <tr>\n",
       "      <th>2021-08-30</th>\n",
       "      <td>442.700012</td>\n",
       "      <td>144.449997</td>\n",
       "      <td>293.839996</td>\n",
       "      <td>111.320000</td>\n",
       "      <td>488.850006</td>\n",
       "      <td>814.200012</td>\n",
       "      <td>85.449997</td>\n",
       "      <td>142.929993</td>\n",
       "      <td>96.150002</td>\n",
       "      <td>57.509998</td>\n",
       "      <td>192.309998</td>\n",
       "      <td>15.740000</td>\n",
       "    </tr>\n",
       "    <tr>\n",
       "      <th>2021-08-31</th>\n",
       "      <td>436.980011</td>\n",
       "      <td>144.320007</td>\n",
       "      <td>288.720001</td>\n",
       "      <td>110.720001</td>\n",
       "      <td>488.899994</td>\n",
       "      <td>816.659973</td>\n",
       "      <td>86.290001</td>\n",
       "      <td>142.389999</td>\n",
       "      <td>96.339996</td>\n",
       "      <td>57.990002</td>\n",
       "      <td>194.690002</td>\n",
       "      <td>15.890000</td>\n",
       "    </tr>\n",
       "    <tr>\n",
       "      <th>2021-09-01</th>\n",
       "      <td>438.709991</td>\n",
       "      <td>144.940002</td>\n",
       "      <td>292.890015</td>\n",
       "      <td>109.989998</td>\n",
       "      <td>492.000000</td>\n",
       "      <td>818.440002</td>\n",
       "      <td>87.400002</td>\n",
       "      <td>143.839996</td>\n",
       "      <td>96.410004</td>\n",
       "      <td>57.880001</td>\n",
       "      <td>197.949997</td>\n",
       "      <td>16.260000</td>\n",
       "    </tr>\n",
       "  </tbody>\n",
       "</table>\n",
       "<p>933 rows × 12 columns</p>\n",
       "</div>"
      ],
      "text/plain": [
       "                  GNRC        CPRT        ODFL         AMD        PAYC  \\\n",
       "Date                                                                     \n",
       "2018-01-02   48.029999   43.599998   88.451561   10.980000   80.440002   \n",
       "2018-01-03   49.730000   43.389999   88.543671   11.550000   81.029999   \n",
       "2018-01-04   50.070000   43.740002   89.063423   12.120000   83.110001   \n",
       "2018-01-05   50.410000   43.529999   89.872673   11.880000   83.879997   \n",
       "2018-01-08   49.529999   43.549999   90.767464   12.280000   84.639999   \n",
       "...                ...         ...         ...         ...         ...   \n",
       "2021-08-26  427.470001  142.970001  286.100006  107.269997  481.149994   \n",
       "2021-08-27  437.109985  144.440002  289.779999  111.400002  484.700012   \n",
       "2021-08-30  442.700012  144.449997  293.839996  111.320000  488.850006   \n",
       "2021-08-31  436.980011  144.320007  288.720001  110.720001  488.899994   \n",
       "2021-09-01  438.709991  144.940002  292.890015  109.989998  492.000000   \n",
       "\n",
       "                  CHTR        MKC          PG        PGR        NEM  \\\n",
       "Date                                                                  \n",
       "2018-01-02  348.970001  47.967422   81.579140  47.749058  34.842434   \n",
       "2018-01-03  353.029999  48.081146   81.480141  47.723183  34.550255   \n",
       "2018-01-04  349.790009  48.384403   82.056091  47.714550  34.933739   \n",
       "2018-01-05  350.880005  48.858246   82.110107  47.895683  35.061573   \n",
       "2018-01-08  356.549988  48.910378   82.542084  48.042313  35.025055   \n",
       "...                ...        ...         ...        ...        ...   \n",
       "2021-08-26  797.400024  84.930000  142.419998  96.230003  56.630001   \n",
       "2021-08-27  807.179993  85.220001  142.309998  97.489998  58.189999   \n",
       "2021-08-30  814.200012  85.449997  142.929993  96.150002  57.509998   \n",
       "2021-08-31  816.659973  86.290001  142.389999  96.339996  57.990002   \n",
       "2021-09-01  818.440002  87.400002  143.839996  96.410004  57.880001   \n",
       "\n",
       "                   CCI        COG  \n",
       "Date                               \n",
       "2018-01-02   96.650520  26.996706  \n",
       "2018-01-03   96.242355  27.118145  \n",
       "2018-01-04   95.124413  27.006050  \n",
       "2018-01-05   95.851990  26.865927  \n",
       "2018-01-08   96.135902  27.006050  \n",
       "...                ...        ...  \n",
       "2021-08-26  189.729996  14.710000  \n",
       "2021-08-27  190.970001  15.630000  \n",
       "2021-08-30  192.309998  15.740000  \n",
       "2021-08-31  194.690002  15.890000  \n",
       "2021-09-01  197.949997  16.260000  \n",
       "\n",
       "[933 rows x 12 columns]"
      ]
     },
     "execution_count": 10,
     "metadata": {},
     "output_type": "execute_result"
    }
   ],
   "source": [
    "mult_df = merge_df_by_column_name('Adj Close',  '2018-01-01', \n",
    "                                  '2021-09-01', *port_list)\n",
    "mult_df"
   ]
  },
  {
   "cell_type": "markdown",
   "metadata": {},
   "source": [
    "## Plot Growth of Investments over Total Dataset"
   ]
  },
  {
   "cell_type": "code",
   "execution_count": 11,
   "metadata": {},
   "outputs": [
    {
     "data": {
      "text/plain": [
       "<matplotlib.axes._subplots.AxesSubplot at 0x288f028c7f0>"
      ]
     },
     "execution_count": 11,
     "metadata": {},
     "output_type": "execute_result"
    },
    {
     "data": {
      "image/png": "[encoded data removed]",
      "text/plain": [
       "<Figure size 1152x648 with 1 Axes>"
      ]
     },
     "metadata": {
      "needs_background": "light"
     },
     "output_type": "display_data"
    }
   ],
   "source": [
    "(mult_df / mult_df.iloc[0] * 100).plot(figsize=(16, 9))\n"
   ]
  },
  {
   "cell_type": "markdown",
   "metadata": {},
   "source": [
    "## Mean Returns"
   ]
  },
  {
   "cell_type": "code",
   "execution_count": 12,
   "metadata": {},
   "outputs": [
    {
     "data": {
      "text/plain": [
       "GNRC    0.598098\n",
       "CPRT    0.324805\n",
       "ODFL    0.323745\n",
       "AMD     0.623055\n",
       "PAYC    0.489661\n",
       "CHTR    0.230481\n",
       "MKC     0.162225\n",
       "PG      0.153344\n",
       "PGR     0.189987\n",
       "NEM     0.137231\n",
       "CCI     0.193843\n",
       "COG    -0.137088\n",
       "dtype: float64"
      ]
     },
     "execution_count": 12,
     "metadata": {},
     "output_type": "execute_result"
    }
   ],
   "source": [
    "returns = np.log(mult_df / mult_df.shift(1))\n",
    "mean_ret = returns.mean() * 252 # 252 average trading days per year\n",
    "mean_ret"
   ]
  },
  {
   "cell_type": "markdown",
   "metadata": {},
   "source": [
    "## Covarience"
   ]
  },
  {
   "cell_type": "code",
   "execution_count": 13,
   "metadata": {},
   "outputs": [
    {
     "data": {
      "text/html": [
       "<div>\n",
       "<style scoped>\n",
       "    .dataframe tbody tr th:only-of-type {\n",
       "        vertical-align: middle;\n",
       "    }\n",
       "\n",
       "    .dataframe tbody tr th {\n",
       "        vertical-align: top;\n",
       "    }\n",
       "\n",
       "    .dataframe thead th {\n",
       "        text-align: right;\n",
       "    }\n",
       "</style>\n",
       "<table border=\"1\" class=\"dataframe\">\n",
       "  <thead>\n",
       "    <tr style=\"text-align: right;\">\n",
       "      <th></th>\n",
       "      <th>GNRC</th>\n",
       "      <th>CPRT</th>\n",
       "      <th>ODFL</th>\n",
       "      <th>AMD</th>\n",
       "      <th>PAYC</th>\n",
       "      <th>CHTR</th>\n",
       "      <th>MKC</th>\n",
       "      <th>PG</th>\n",
       "      <th>PGR</th>\n",
       "      <th>NEM</th>\n",
       "      <th>CCI</th>\n",
       "      <th>COG</th>\n",
       "    </tr>\n",
       "  </thead>\n",
       "  <tbody>\n",
       "    <tr>\n",
       "      <th>GNRC</th>\n",
       "      <td>0.159613</td>\n",
       "      <td>0.062755</td>\n",
       "      <td>0.061049</td>\n",
       "      <td>0.087651</td>\n",
       "      <td>0.087327</td>\n",
       "      <td>0.043597</td>\n",
       "      <td>0.033553</td>\n",
       "      <td>0.029501</td>\n",
       "      <td>0.041143</td>\n",
       "      <td>0.026130</td>\n",
       "      <td>0.043714</td>\n",
       "      <td>0.037308</td>\n",
       "    </tr>\n",
       "    <tr>\n",
       "      <th>CPRT</th>\n",
       "      <td>0.062755</td>\n",
       "      <td>0.099416</td>\n",
       "      <td>0.051345</td>\n",
       "      <td>0.067254</td>\n",
       "      <td>0.086628</td>\n",
       "      <td>0.038143</td>\n",
       "      <td>0.028973</td>\n",
       "      <td>0.026304</td>\n",
       "      <td>0.031401</td>\n",
       "      <td>0.017898</td>\n",
       "      <td>0.034677</td>\n",
       "      <td>0.029454</td>\n",
       "    </tr>\n",
       "    <tr>\n",
       "      <th>ODFL</th>\n",
       "      <td>0.061049</td>\n",
       "      <td>0.051345</td>\n",
       "      <td>0.100928</td>\n",
       "      <td>0.065668</td>\n",
       "      <td>0.063107</td>\n",
       "      <td>0.035235</td>\n",
       "      <td>0.028407</td>\n",
       "      <td>0.023554</td>\n",
       "      <td>0.037729</td>\n",
       "      <td>0.016320</td>\n",
       "      <td>0.030777</td>\n",
       "      <td>0.026825</td>\n",
       "    </tr>\n",
       "    <tr>\n",
       "      <th>AMD</th>\n",
       "      <td>0.087651</td>\n",
       "      <td>0.067254</td>\n",
       "      <td>0.065668</td>\n",
       "      <td>0.310878</td>\n",
       "      <td>0.115725</td>\n",
       "      <td>0.056770</td>\n",
       "      <td>0.035622</td>\n",
       "      <td>0.031541</td>\n",
       "      <td>0.043595</td>\n",
       "      <td>0.035976</td>\n",
       "      <td>0.042983</td>\n",
       "      <td>0.035392</td>\n",
       "    </tr>\n",
       "    <tr>\n",
       "      <th>PAYC</th>\n",
       "      <td>0.087327</td>\n",
       "      <td>0.086628</td>\n",
       "      <td>0.063107</td>\n",
       "      <td>0.115725</td>\n",
       "      <td>0.226168</td>\n",
       "      <td>0.052201</td>\n",
       "      <td>0.042189</td>\n",
       "      <td>0.033631</td>\n",
       "      <td>0.054628</td>\n",
       "      <td>0.022705</td>\n",
       "      <td>0.058568</td>\n",
       "      <td>0.039046</td>\n",
       "    </tr>\n",
       "    <tr>\n",
       "      <th>CHTR</th>\n",
       "      <td>0.043597</td>\n",
       "      <td>0.038143</td>\n",
       "      <td>0.035235</td>\n",
       "      <td>0.056770</td>\n",
       "      <td>0.052201</td>\n",
       "      <td>0.084478</td>\n",
       "      <td>0.023507</td>\n",
       "      <td>0.025966</td>\n",
       "      <td>0.028844</td>\n",
       "      <td>0.015235</td>\n",
       "      <td>0.035133</td>\n",
       "      <td>0.023732</td>\n",
       "    </tr>\n",
       "    <tr>\n",
       "      <th>MKC</th>\n",
       "      <td>0.033553</td>\n",
       "      <td>0.028973</td>\n",
       "      <td>0.028407</td>\n",
       "      <td>0.035622</td>\n",
       "      <td>0.042189</td>\n",
       "      <td>0.023507</td>\n",
       "      <td>0.067610</td>\n",
       "      <td>0.033964</td>\n",
       "      <td>0.031042</td>\n",
       "      <td>0.019189</td>\n",
       "      <td>0.039238</td>\n",
       "      <td>0.022557</td>\n",
       "    </tr>\n",
       "    <tr>\n",
       "      <th>PG</th>\n",
       "      <td>0.029501</td>\n",
       "      <td>0.026304</td>\n",
       "      <td>0.023554</td>\n",
       "      <td>0.031541</td>\n",
       "      <td>0.033631</td>\n",
       "      <td>0.025966</td>\n",
       "      <td>0.033964</td>\n",
       "      <td>0.049657</td>\n",
       "      <td>0.030195</td>\n",
       "      <td>0.012378</td>\n",
       "      <td>0.034569</td>\n",
       "      <td>0.026913</td>\n",
       "    </tr>\n",
       "    <tr>\n",
       "      <th>PGR</th>\n",
       "      <td>0.041143</td>\n",
       "      <td>0.031401</td>\n",
       "      <td>0.037729</td>\n",
       "      <td>0.043595</td>\n",
       "      <td>0.054628</td>\n",
       "      <td>0.028844</td>\n",
       "      <td>0.031042</td>\n",
       "      <td>0.030195</td>\n",
       "      <td>0.073633</td>\n",
       "      <td>0.014716</td>\n",
       "      <td>0.035560</td>\n",
       "      <td>0.027867</td>\n",
       "    </tr>\n",
       "    <tr>\n",
       "      <th>NEM</th>\n",
       "      <td>0.026130</td>\n",
       "      <td>0.017898</td>\n",
       "      <td>0.016320</td>\n",
       "      <td>0.035976</td>\n",
       "      <td>0.022705</td>\n",
       "      <td>0.015235</td>\n",
       "      <td>0.019189</td>\n",
       "      <td>0.012378</td>\n",
       "      <td>0.014716</td>\n",
       "      <td>0.106692</td>\n",
       "      <td>0.020386</td>\n",
       "      <td>0.015366</td>\n",
       "    </tr>\n",
       "    <tr>\n",
       "      <th>CCI</th>\n",
       "      <td>0.043714</td>\n",
       "      <td>0.034677</td>\n",
       "      <td>0.030777</td>\n",
       "      <td>0.042983</td>\n",
       "      <td>0.058568</td>\n",
       "      <td>0.035133</td>\n",
       "      <td>0.039238</td>\n",
       "      <td>0.034569</td>\n",
       "      <td>0.035560</td>\n",
       "      <td>0.020386</td>\n",
       "      <td>0.076781</td>\n",
       "      <td>0.026011</td>\n",
       "    </tr>\n",
       "    <tr>\n",
       "      <th>COG</th>\n",
       "      <td>0.037308</td>\n",
       "      <td>0.029454</td>\n",
       "      <td>0.026825</td>\n",
       "      <td>0.035392</td>\n",
       "      <td>0.039046</td>\n",
       "      <td>0.023732</td>\n",
       "      <td>0.022557</td>\n",
       "      <td>0.026913</td>\n",
       "      <td>0.027867</td>\n",
       "      <td>0.015366</td>\n",
       "      <td>0.026011</td>\n",
       "      <td>0.153033</td>\n",
       "    </tr>\n",
       "  </tbody>\n",
       "</table>\n",
       "</div>"
      ],
      "text/plain": [
       "          GNRC      CPRT      ODFL       AMD      PAYC      CHTR       MKC  \\\n",
       "GNRC  0.159613  0.062755  0.061049  0.087651  0.087327  0.043597  0.033553   \n",
       "CPRT  0.062755  0.099416  0.051345  0.067254  0.086628  0.038143  0.028973   \n",
       "ODFL  0.061049  0.051345  0.100928  0.065668  0.063107  0.035235  0.028407   \n",
       "AMD   0.087651  0.067254  0.065668  0.310878  0.115725  0.056770  0.035622   \n",
       "PAYC  0.087327  0.086628  0.063107  0.115725  0.226168  0.052201  0.042189   \n",
       "CHTR  0.043597  0.038143  0.035235  0.056770  0.052201  0.084478  0.023507   \n",
       "MKC   0.033553  0.028973  0.028407  0.035622  0.042189  0.023507  0.067610   \n",
       "PG    0.029501  0.026304  0.023554  0.031541  0.033631  0.025966  0.033964   \n",
       "PGR   0.041143  0.031401  0.037729  0.043595  0.054628  0.028844  0.031042   \n",
       "NEM   0.026130  0.017898  0.016320  0.035976  0.022705  0.015235  0.019189   \n",
       "CCI   0.043714  0.034677  0.030777  0.042983  0.058568  0.035133  0.039238   \n",
       "COG   0.037308  0.029454  0.026825  0.035392  0.039046  0.023732  0.022557   \n",
       "\n",
       "            PG       PGR       NEM       CCI       COG  \n",
       "GNRC  0.029501  0.041143  0.026130  0.043714  0.037308  \n",
       "CPRT  0.026304  0.031401  0.017898  0.034677  0.029454  \n",
       "ODFL  0.023554  0.037729  0.016320  0.030777  0.026825  \n",
       "AMD   0.031541  0.043595  0.035976  0.042983  0.035392  \n",
       "PAYC  0.033631  0.054628  0.022705  0.058568  0.039046  \n",
       "CHTR  0.025966  0.028844  0.015235  0.035133  0.023732  \n",
       "MKC   0.033964  0.031042  0.019189  0.039238  0.022557  \n",
       "PG    0.049657  0.030195  0.012378  0.034569  0.026913  \n",
       "PGR   0.030195  0.073633  0.014716  0.035560  0.027867  \n",
       "NEM   0.012378  0.014716  0.106692  0.020386  0.015366  \n",
       "CCI   0.034569  0.035560  0.020386  0.076781  0.026011  \n",
       "COG   0.026913  0.027867  0.015366  0.026011  0.153033  "
      ]
     },
     "execution_count": 13,
     "metadata": {},
     "output_type": "execute_result"
    }
   ],
   "source": [
    "returns.cov() * 252"
   ]
  },
  {
   "cell_type": "markdown",
   "metadata": {},
   "source": [
    "## Correlation"
   ]
  },
  {
   "cell_type": "code",
   "execution_count": 14,
   "metadata": {},
   "outputs": [
    {
     "data": {
      "text/html": [
       "<div>\n",
       "<style scoped>\n",
       "    .dataframe tbody tr th:only-of-type {\n",
       "        vertical-align: middle;\n",
       "    }\n",
       "\n",
       "    .dataframe tbody tr th {\n",
       "        vertical-align: top;\n",
       "    }\n",
       "\n",
       "    .dataframe thead th {\n",
       "        text-align: right;\n",
       "    }\n",
       "</style>\n",
       "<table border=\"1\" class=\"dataframe\">\n",
       "  <thead>\n",
       "    <tr style=\"text-align: right;\">\n",
       "      <th></th>\n",
       "      <th>GNRC</th>\n",
       "      <th>CPRT</th>\n",
       "      <th>ODFL</th>\n",
       "      <th>AMD</th>\n",
       "      <th>PAYC</th>\n",
       "      <th>CHTR</th>\n",
       "      <th>MKC</th>\n",
       "      <th>PG</th>\n",
       "      <th>PGR</th>\n",
       "      <th>NEM</th>\n",
       "      <th>CCI</th>\n",
       "      <th>COG</th>\n",
       "    </tr>\n",
       "  </thead>\n",
       "  <tbody>\n",
       "    <tr>\n",
       "      <th>GNRC</th>\n",
       "      <td>1.000000</td>\n",
       "      <td>0.498180</td>\n",
       "      <td>0.480992</td>\n",
       "      <td>0.393483</td>\n",
       "      <td>0.459618</td>\n",
       "      <td>0.375450</td>\n",
       "      <td>0.322995</td>\n",
       "      <td>0.331365</td>\n",
       "      <td>0.379509</td>\n",
       "      <td>0.200235</td>\n",
       "      <td>0.394875</td>\n",
       "      <td>0.238711</td>\n",
       "    </tr>\n",
       "    <tr>\n",
       "      <th>CPRT</th>\n",
       "      <td>0.498180</td>\n",
       "      <td>1.000000</td>\n",
       "      <td>0.512578</td>\n",
       "      <td>0.382553</td>\n",
       "      <td>0.577717</td>\n",
       "      <td>0.416206</td>\n",
       "      <td>0.353394</td>\n",
       "      <td>0.374370</td>\n",
       "      <td>0.367005</td>\n",
       "      <td>0.173780</td>\n",
       "      <td>0.396908</td>\n",
       "      <td>0.238795</td>\n",
       "    </tr>\n",
       "    <tr>\n",
       "      <th>ODFL</th>\n",
       "      <td>0.480992</td>\n",
       "      <td>0.512578</td>\n",
       "      <td>1.000000</td>\n",
       "      <td>0.370726</td>\n",
       "      <td>0.417694</td>\n",
       "      <td>0.381583</td>\n",
       "      <td>0.343890</td>\n",
       "      <td>0.332705</td>\n",
       "      <td>0.437657</td>\n",
       "      <td>0.157272</td>\n",
       "      <td>0.349614</td>\n",
       "      <td>0.215847</td>\n",
       "    </tr>\n",
       "    <tr>\n",
       "      <th>AMD</th>\n",
       "      <td>0.393483</td>\n",
       "      <td>0.382553</td>\n",
       "      <td>0.370726</td>\n",
       "      <td>1.000000</td>\n",
       "      <td>0.436432</td>\n",
       "      <td>0.350311</td>\n",
       "      <td>0.245704</td>\n",
       "      <td>0.253855</td>\n",
       "      <td>0.288142</td>\n",
       "      <td>0.197539</td>\n",
       "      <td>0.278212</td>\n",
       "      <td>0.162262</td>\n",
       "    </tr>\n",
       "    <tr>\n",
       "      <th>PAYC</th>\n",
       "      <td>0.459618</td>\n",
       "      <td>0.577717</td>\n",
       "      <td>0.417694</td>\n",
       "      <td>0.436432</td>\n",
       "      <td>1.000000</td>\n",
       "      <td>0.377648</td>\n",
       "      <td>0.341179</td>\n",
       "      <td>0.317347</td>\n",
       "      <td>0.423311</td>\n",
       "      <td>0.146166</td>\n",
       "      <td>0.444448</td>\n",
       "      <td>0.209878</td>\n",
       "    </tr>\n",
       "    <tr>\n",
       "      <th>CHTR</th>\n",
       "      <td>0.375450</td>\n",
       "      <td>0.416206</td>\n",
       "      <td>0.381583</td>\n",
       "      <td>0.350311</td>\n",
       "      <td>0.377648</td>\n",
       "      <td>1.000000</td>\n",
       "      <td>0.311047</td>\n",
       "      <td>0.400908</td>\n",
       "      <td>0.365723</td>\n",
       "      <td>0.160468</td>\n",
       "      <td>0.436236</td>\n",
       "      <td>0.208718</td>\n",
       "    </tr>\n",
       "    <tr>\n",
       "      <th>MKC</th>\n",
       "      <td>0.322995</td>\n",
       "      <td>0.353394</td>\n",
       "      <td>0.343890</td>\n",
       "      <td>0.245704</td>\n",
       "      <td>0.341179</td>\n",
       "      <td>0.311047</td>\n",
       "      <td>1.000000</td>\n",
       "      <td>0.586171</td>\n",
       "      <td>0.439961</td>\n",
       "      <td>0.225935</td>\n",
       "      <td>0.544592</td>\n",
       "      <td>0.221761</td>\n",
       "    </tr>\n",
       "    <tr>\n",
       "      <th>PG</th>\n",
       "      <td>0.331365</td>\n",
       "      <td>0.374370</td>\n",
       "      <td>0.332705</td>\n",
       "      <td>0.253855</td>\n",
       "      <td>0.317347</td>\n",
       "      <td>0.400908</td>\n",
       "      <td>0.586171</td>\n",
       "      <td>1.000000</td>\n",
       "      <td>0.499345</td>\n",
       "      <td>0.170056</td>\n",
       "      <td>0.559846</td>\n",
       "      <td>0.308733</td>\n",
       "    </tr>\n",
       "    <tr>\n",
       "      <th>PGR</th>\n",
       "      <td>0.379509</td>\n",
       "      <td>0.367005</td>\n",
       "      <td>0.437657</td>\n",
       "      <td>0.288142</td>\n",
       "      <td>0.423311</td>\n",
       "      <td>0.365723</td>\n",
       "      <td>0.439961</td>\n",
       "      <td>0.499345</td>\n",
       "      <td>1.000000</td>\n",
       "      <td>0.166027</td>\n",
       "      <td>0.472930</td>\n",
       "      <td>0.262522</td>\n",
       "    </tr>\n",
       "    <tr>\n",
       "      <th>NEM</th>\n",
       "      <td>0.200235</td>\n",
       "      <td>0.173780</td>\n",
       "      <td>0.157272</td>\n",
       "      <td>0.197539</td>\n",
       "      <td>0.146166</td>\n",
       "      <td>0.160468</td>\n",
       "      <td>0.225935</td>\n",
       "      <td>0.170056</td>\n",
       "      <td>0.166027</td>\n",
       "      <td>1.000000</td>\n",
       "      <td>0.225235</td>\n",
       "      <td>0.120258</td>\n",
       "    </tr>\n",
       "    <tr>\n",
       "      <th>CCI</th>\n",
       "      <td>0.394875</td>\n",
       "      <td>0.396908</td>\n",
       "      <td>0.349614</td>\n",
       "      <td>0.278212</td>\n",
       "      <td>0.444448</td>\n",
       "      <td>0.436236</td>\n",
       "      <td>0.544592</td>\n",
       "      <td>0.559846</td>\n",
       "      <td>0.472930</td>\n",
       "      <td>0.225235</td>\n",
       "      <td>1.000000</td>\n",
       "      <td>0.239958</td>\n",
       "    </tr>\n",
       "    <tr>\n",
       "      <th>COG</th>\n",
       "      <td>0.238711</td>\n",
       "      <td>0.238795</td>\n",
       "      <td>0.215847</td>\n",
       "      <td>0.162262</td>\n",
       "      <td>0.209878</td>\n",
       "      <td>0.208718</td>\n",
       "      <td>0.221761</td>\n",
       "      <td>0.308733</td>\n",
       "      <td>0.262522</td>\n",
       "      <td>0.120258</td>\n",
       "      <td>0.239958</td>\n",
       "      <td>1.000000</td>\n",
       "    </tr>\n",
       "  </tbody>\n",
       "</table>\n",
       "</div>"
      ],
      "text/plain": [
       "          GNRC      CPRT      ODFL       AMD      PAYC      CHTR       MKC  \\\n",
       "GNRC  1.000000  0.498180  0.480992  0.393483  0.459618  0.375450  0.322995   \n",
       "CPRT  0.498180  1.000000  0.512578  0.382553  0.577717  0.416206  0.353394   \n",
       "ODFL  0.480992  0.512578  1.000000  0.370726  0.417694  0.381583  0.343890   \n",
       "AMD   0.393483  0.382553  0.370726  1.000000  0.436432  0.350311  0.245704   \n",
       "PAYC  0.459618  0.577717  0.417694  0.436432  1.000000  0.377648  0.341179   \n",
       "CHTR  0.375450  0.416206  0.381583  0.350311  0.377648  1.000000  0.311047   \n",
       "MKC   0.322995  0.353394  0.343890  0.245704  0.341179  0.311047  1.000000   \n",
       "PG    0.331365  0.374370  0.332705  0.253855  0.317347  0.400908  0.586171   \n",
       "PGR   0.379509  0.367005  0.437657  0.288142  0.423311  0.365723  0.439961   \n",
       "NEM   0.200235  0.173780  0.157272  0.197539  0.146166  0.160468  0.225935   \n",
       "CCI   0.394875  0.396908  0.349614  0.278212  0.444448  0.436236  0.544592   \n",
       "COG   0.238711  0.238795  0.215847  0.162262  0.209878  0.208718  0.221761   \n",
       "\n",
       "            PG       PGR       NEM       CCI       COG  \n",
       "GNRC  0.331365  0.379509  0.200235  0.394875  0.238711  \n",
       "CPRT  0.374370  0.367005  0.173780  0.396908  0.238795  \n",
       "ODFL  0.332705  0.437657  0.157272  0.349614  0.215847  \n",
       "AMD   0.253855  0.288142  0.197539  0.278212  0.162262  \n",
       "PAYC  0.317347  0.423311  0.146166  0.444448  0.209878  \n",
       "CHTR  0.400908  0.365723  0.160468  0.436236  0.208718  \n",
       "MKC   0.586171  0.439961  0.225935  0.544592  0.221761  \n",
       "PG    1.000000  0.499345  0.170056  0.559846  0.308733  \n",
       "PGR   0.499345  1.000000  0.166027  0.472930  0.262522  \n",
       "NEM   0.170056  0.166027  1.000000  0.225235  0.120258  \n",
       "CCI   0.559846  0.472930  0.225235  1.000000  0.239958  \n",
       "COG   0.308733  0.262522  0.120258  0.239958  1.000000  "
      ]
     },
     "execution_count": 14,
     "metadata": {},
     "output_type": "execute_result"
    }
   ],
   "source": [
    "returns.corr()"
   ]
  },
  {
   "cell_type": "markdown",
   "metadata": {},
   "source": [
    "## Generate Random Weights Equal to 1"
   ]
  },
  {
   "cell_type": "code",
   "execution_count": 15,
   "metadata": {},
   "outputs": [
    {
     "name": "stdout",
     "output_type": "stream",
     "text": [
      "Weights : [0.02125654 0.0863398  0.10370128 0.07141497 0.13453457 0.11800204\n",
      " 0.06616309 0.09840712 0.07043698 0.13111772 0.08559052 0.01303537]\n",
      "Total Weight : 1.0\n"
     ]
    }
   ],
   "source": [
    "# Generate 11 random values that sum to 1\n",
    "weights = np.random.random(num_stocks)\n",
    "weights /= np.sum(weights)\n",
    "print('Weights :', weights)\n",
    "print('Total Weight :', np.sum(weights))"
   ]
  },
  {
   "cell_type": "markdown",
   "metadata": {},
   "source": [
    "## Calculating Return of Portfolio"
   ]
  },
  {
   "cell_type": "code",
   "execution_count": 16,
   "metadata": {},
   "outputs": [
    {
     "data": {
      "text/plain": [
       "0.28390185446891075"
      ]
     },
     "execution_count": 16,
     "metadata": {},
     "output_type": "execute_result"
    }
   ],
   "source": [
    "# Provide return of portfolio using random weights over the whole dataset\n",
    "np.sum(weights * returns.mean()) * 252"
   ]
  },
  {
   "cell_type": "markdown",
   "metadata": {},
   "source": [
    "## Calculating Volatility"
   ]
  },
  {
   "cell_type": "code",
   "execution_count": 17,
   "metadata": {},
   "outputs": [
    {
     "data": {
      "text/plain": [
       "0.2155872767446207"
      ]
     },
     "execution_count": 17,
     "metadata": {},
     "output_type": "execute_result"
    }
   ],
   "source": [
    "np.sqrt(np.dot(weights.T, np.dot(returns.cov() * 252, weights)))"
   ]
  },
  {
   "cell_type": "markdown",
   "metadata": {},
   "source": [
    "## Analyzing Returns & Risks of 10000 Combinations"
   ]
  },
  {
   "cell_type": "code",
   "execution_count": 18,
   "metadata": {},
   "outputs": [
    {
     "data": {
      "text/plain": [
       "(array([0.22366768, 0.23713079, 0.27917645, ..., 0.25094577, 0.3137677 ,\n",
       "        0.27602019]),\n",
       " array([0.21091707, 0.21099248, 0.21953026, ..., 0.2001485 , 0.23880335,\n",
       "        0.2260317 ]),\n",
       " array([1.00118818, 1.06463888, 1.21475945, ..., 1.19134431, 1.26157233,\n",
       "        1.16585501]),\n",
       " array([[0.0099252 , 0.17746138, 0.18036987, ..., 0.03476538, 0.1236237 ,\n",
       "         0.14245444],\n",
       "        [0.00826212, 0.02766726, 0.00626476, ..., 0.15894628, 0.01553257,\n",
       "         0.06621301],\n",
       "        [0.07874556, 0.09581541, 0.10071715, ..., 0.09381277, 0.08243235,\n",
       "         0.09325075],\n",
       "        ...,\n",
       "        [0.0783439 , 0.05438719, 0.09017437, ..., 0.10600157, 0.09038185,\n",
       "         0.05181441],\n",
       "        [0.06976678, 0.00944471, 0.10398129, ..., 0.13647668, 0.10225679,\n",
       "         0.06320932],\n",
       "        [0.1101336 , 0.02937373, 0.01068159, ..., 0.08448402, 0.13293521,\n",
       "         0.10129792]]))"
      ]
     },
     "execution_count": 18,
     "metadata": {},
     "output_type": "execute_result"
    }
   ],
   "source": [
    "p_ret = [] # Returns list\n",
    "p_vol = [] # Volatility list\n",
    "p_SR = [] # Sharpe Ratio list\n",
    "p_wt = [] # Stock weights list\n",
    "\n",
    "\n",
    "for x in range(10000):\n",
    "    # Generate random weights\n",
    "    p_weights = np.random.random(num_stocks)\n",
    "    p_weights /= np.sum(p_weights)\n",
    "    \n",
    "    # Add return using those weights to list\n",
    "    ret_1 = np.sum(p_weights * returns.mean()) * 252\n",
    "    p_ret.append(ret_1)\n",
    "    \n",
    "    # Add volatility or standard deviation to list\n",
    "    vol_1 = np.sqrt(np.dot(p_weights.T, np.dot(returns.cov() * 252, p_weights)))\n",
    "    p_vol.append(vol_1)\n",
    "    \n",
    "    # Get Sharpe ratio\n",
    "    SR_1 = (ret_1 - risk_free_rate) / vol_1\n",
    "    p_SR.append(SR_1)\n",
    "    \n",
    "    # Store the weights for each portfolio\n",
    "    p_wt.append(p_weights)\n",
    "    \n",
    "# Convert to Numpy arrays\n",
    "p_ret = np.array(p_ret)\n",
    "p_vol = np.array(p_vol)\n",
    "p_SR = np.array(p_SR)\n",
    "p_wt = np.array(p_wt)\n",
    "\n",
    "p_ret, p_vol, p_SR, p_wt"
   ]
  },
  {
   "cell_type": "markdown",
   "metadata": {},
   "source": [
    "## Plotting the Efficient Frontier"
   ]
  },
  {
   "cell_type": "code",
   "execution_count": 19,
   "metadata": {},
   "outputs": [
    {
     "data": {
      "text/plain": [
       "<matplotlib.axes._subplots.AxesSubplot at 0x288f06daa00>"
      ]
     },
     "execution_count": 19,
     "metadata": {},
     "output_type": "execute_result"
    },
    {
     "data": {
      "image/png": "[encoded data removed]",
      "text/plain": [
       "<Figure size 1152x648 with 1 Axes>"
      ]
     },
     "metadata": {
      "needs_background": "light"
     },
     "output_type": "display_data"
    }
   ],
   "source": [
    "# Create a dataframe with returns and volatility\n",
    "ports = pd.DataFrame({'Return': p_ret, 'Volatility': p_vol})\n",
    "\n",
    "ports.plot(x='Volatility', y='Return', kind='scatter', figsize=(16, 9))"
   ]
  },
  {
   "cell_type": "markdown",
   "metadata": {},
   "source": [
    "## Sharpe Ratio"
   ]
  },
  {
   "cell_type": "markdown",
   "metadata": {},
   "source": [
    "People want to maximize returns while avoiding as much risk as possible. William Sharpe created the Sharpe Ratio to find the portfolio that provides the best return for the lowest amount of risk. \n",
    "\n",
    "*Sharpe Ratio* = $\\frac{r_i - r_f}{\\sigma_i}$\n",
    "\n",
    "$r_f = $ Risk Free Rate\n",
    "\n",
    "$r_i = $ Rate of Return of the stock\n",
    "\n",
    "$\\sigma_i = $ Standard Deviation of the Stock\n",
    "\n",
    "As return increases so does the Sharpe Ratio, but as Standard Deviation increase the Sharpe Ration decreases."
   ]
  },
  {
   "cell_type": "code",
   "execution_count": 20,
   "metadata": {},
   "outputs": [
    {
     "name": "stdout",
     "output_type": "stream",
     "text": [
      "Stock : GNRC : 23.90\n",
      "Stock : CPRT : 6.24\n",
      "Stock : ODFL : 10.34\n",
      "Stock : AMD : 16.55\n",
      "Stock : PAYC : 5.04\n",
      "Stock : CHTR : 0.43\n",
      "Stock : MKC : 11.31\n",
      "Stock : PG : 7.49\n",
      "Stock : PGR : 9.51\n",
      "Stock : NEM : 4.66\n",
      "Stock : CCI : 1.99\n",
      "Stock : COG : 2.53\n",
      "\n",
      "Volatility : 0.24982450395435044\n",
      "Return : 0.38018664879640185\n"
     ]
    }
   ],
   "source": [
    "# Return the index of the largest Sharpe Ratio\n",
    "SR_idx = np.argmax(p_SR)\n",
    "\n",
    "# Find the ideal portfolio weighting at that index\n",
    "i = 0\n",
    "while i < num_stocks:\n",
    "    print(\"Stock : %s : %2.2f\" % (port_list[i], (p_wt[SR_idx][i] * 100)))\n",
    "    i += 1\n",
    "    \n",
    "# Find volatility of that portfolio\n",
    "print(\"\\nVolatility :\", p_vol[SR_idx])\n",
    "      \n",
    "# Find return of that portfolio\n",
    "print(\"Return :\", p_ret[SR_idx])\n"
   ]
  },
  {
   "cell_type": "markdown",
   "metadata": {},
   "source": [
    "## Get Number of Shares & Cost Based on Weights"
   ]
  },
  {
   "cell_type": "code",
   "execution_count": 25,
   "metadata": {},
   "outputs": [],
   "source": [
    "# I'm going to use a similar portfolio that has slightly easier percents to work with\n",
    "\n",
    "# Calculated Weighting\n",
    "# Stock : GNRC : 21.90 \n",
    "# Stock : CPRT : 15.63 \n",
    "# Stock : ODFL : 23.83\n",
    "# Stock : AMD : 11.09\n",
    "# Stock : PAYC : 1.86\n",
    "# Stock : CHTR : 3.55\n",
    "# Stock : MKC : 2.87\n",
    "# Stock : PG : 1.09\n",
    "# Stock : PGR : 2.86\n",
    "# Stock : NEM : 10.11\n",
    "# Stock : CCI : 4.34\n",
    "# Stock : COG : 0.87"
   ]
  },
  {
   "cell_type": "markdown",
   "metadata": {},
   "source": [
    "Find percentage closest to 1 and use it as the basis for calculating all other shares\n",
    "Since PG is 1% : GNRC is 21.90 : Multiply cost of PG (118.20) by 22 (21.9 Rounded up) and then divide \n",
    "that by the cost of GNRC to get the shares to buy for GNRC\n",
    "\n",
    "118.20 * 22 = 2,600.4 / 102.01 = 25.49 (25 Shares) * 102.01 = \n",
    "\n",
    "In situations in which prices don't work either discard stock or force 1 share"
   ]
  },
  {
   "cell_type": "code",
   "execution_count": 21,
   "metadata": {},
   "outputs": [],
   "source": [
    "def get_port_shares(one_price, force_one, wts, prices):\n",
    "    # Gets number of stocks to analyze\n",
    "    num_stocks = len(wts)\n",
    "    \n",
    "    # Holds the number of shares for each\n",
    "    shares = []\n",
    "    \n",
    "    # Holds Cost of shares for each\n",
    "    cost_shares = []\n",
    "    \n",
    "    i = 0\n",
    "    while i < num_stocks:\n",
    "        # Get max amount to spend on stock \n",
    "        max_price = one_price * wts[i]\n",
    "        \n",
    "        # Gets number of shares to buy and adds them to list\n",
    "        num_shares = int(max_price / prices[i])\n",
    "        \n",
    "        # If the user wants to force buying one share do it\n",
    "        if(force_one & (num_shares == 0)):\n",
    "            num_shares = 1\n",
    "        \n",
    "        shares.append(num_shares)\n",
    "        \n",
    "        # Gets cost of those shares and appends to list\n",
    "        cost = num_shares * prices[i]\n",
    "        cost_shares.append(cost)\n",
    "        i += 1\n",
    "        \n",
    "    return shares, cost_shares"
   ]
  },
  {
   "cell_type": "markdown",
   "metadata": {},
   "source": [
    "## Get Portfolio Weighting"
   ]
  },
  {
   "cell_type": "code",
   "execution_count": 22,
   "metadata": {},
   "outputs": [],
   "source": [
    "def get_port_weighting(share_cost):\n",
    "    \n",
    "    # Holds weights for stocks\n",
    "    stock_wts = []\n",
    "    # All values summed\n",
    "    tot_val = sum(share_cost)\n",
    "    print(\"Total Investment :\", tot_val)\n",
    "    \n",
    "    for x in share_cost:\n",
    "        stock_wts.append(x / tot_val)\n",
    "    return stock_wts"
   ]
  },
  {
   "cell_type": "markdown",
   "metadata": {},
   "source": [
    "## Returns the Value of Portfolio by Date"
   ]
  },
  {
   "cell_type": "code",
   "execution_count": 23,
   "metadata": {},
   "outputs": [],
   "source": [
    "def get_port_val_by_date(date, shares, tickers):\n",
    "    port_prices = merge_df_by_column_name('Adj Close',  date, \n",
    "                                  date, *port_list)\n",
    "    # Convert from dataframe to Python list\n",
    "    port_prices = port_df_start.values.tolist()\n",
    "    # Trick that converts a list of lists into a single list\n",
    "    port_prices = sum(port_prices, [])\n",
    "    return port_prices"
   ]
  },
  {
   "cell_type": "markdown",
   "metadata": {},
   "source": [
    "## Approximate Portfolio Weighting Based on Request"
   ]
  },
  {
   "cell_type": "code",
   "execution_count": 26,
   "metadata": {},
   "outputs": [
    {
     "name": "stdout",
     "output_type": "stream",
     "text": [
      "Shares : [25, 20, 22, 26, 1, 1, 4, 1, 5, 28, 3, 7]\n",
      "Share Cost : [2550.250053405762, 1869.6000671386719, 2801.878051757813, 1276.5999603271484, 271.79998779296875, 490.42999267578125, 327.7214050292969, 118.2088623046875, 341.39949798583984, 1168.7718505859377, 405.90911865234364, 115.7245979309082]\n",
      "Total Investment : 11738.293445587158\n",
      "Stock Weights : [0.21725901343559373, 0.1592735840013883, 0.23869551947614145, 0.10875515817054887, 0.02315498322246732, 0.041780348646859845, 0.027918999175514648, 0.010070361833484953, 0.029084253138533016, 0.09956914571984232, 0.034579908956436874, 0.00985872422318878]\n"
     ]
    },
    {
     "data": {
      "text/plain": [
       "[102.01000213623048,\n",
       " 93.4800033569336,\n",
       " 127.35809326171876,\n",
       " 49.099998474121094,\n",
       " 271.79998779296875,\n",
       " 490.42999267578125,\n",
       " 81.93035125732422,\n",
       " 118.2088623046875,\n",
       " 68.27989959716797,\n",
       " 41.74185180664063,\n",
       " 135.30303955078122,\n",
       " 16.532085418701172]"
      ]
     },
     "execution_count": 26,
     "metadata": {},
     "output_type": "execute_result"
    }
   ],
   "source": [
    "port_list = [\"GNRC\", \"CPRT\", \"ODFL\", \"AMD\", \"PAYC\", \"CHTR\", \"MKC\", \n",
    "             \"PG\", \"PGR\", \"NEM\", \"CCI\", \"COG\"]\n",
    "\n",
    "port_wts = [22, 16, 24, 11, 2, 4, 3, 1, 3, 10, 4, 1]\n",
    "\n",
    "# Get all stock prices on the starting date\n",
    "port_df_start = merge_df_by_column_name('Adj Close',  '2020-01-02', \n",
    "                                  '2020-01-02', *port_list)\n",
    "# Convert from dataframe to Python list\n",
    "port_prices = port_df_start.values.tolist()\n",
    "# Trick that converts a list of lists into a single list\n",
    "port_prices = sum(port_prices, [])\n",
    "\n",
    "# Calculated Weighting\n",
    "# Stock : GNRC : 21.90 \n",
    "# Stock : CPRT : 15.63 \n",
    "# Stock : ODFL : 23.83\n",
    "# Stock : AMD : 11.09\n",
    "# Stock : PAYC : 1.86\n",
    "# Stock : CHTR : 3.55\n",
    "# Stock : MKC : 2.87\n",
    "# Stock : PG : 1.09\n",
    "# Stock : PGR : 2.86\n",
    "# Stock : NEM : 10.11\n",
    "# Stock : CCI : 4.34\n",
    "# Stock : COG : 0.87\n",
    "\n",
    "tot_shares, share_cost = get_port_shares(118.20, True, port_wts, port_prices)\n",
    "print(\"Shares :\", tot_shares)\n",
    "print(\"Share Cost :\", share_cost)\n",
    "\n",
    "# Get list of weights for stocks\n",
    "stock_wts = get_port_weighting(share_cost)\n",
    "print(\"Stock Weights :\", stock_wts)\n",
    "\n",
    "# Get value at end of year\n",
    "get_port_val_by_date('2020-12-31', tot_shares, port_list)"
   ]
  },
  {
   "cell_type": "code",
   "execution_count": null,
   "metadata": {},
   "outputs": [],
   "source": []
  }
 ],
 "metadata": {
  "kernelspec": {
   "display_name": "Python 3",
   "language": "python",
   "name": "python3"
  },
  "language_info": {
   "codemirror_mode": {
    "name": "ipython",
    "version": 3
   },
   "file_extension": ".py",
   "mimetype": "text/x-python",
   "name": "python",
   "nbconvert_exporter": "python",
   "pygments_lexer": "ipython3",
   "version": "3.8.3"
  }
 },
 "nbformat": 4,
 "nbformat_minor": 4
}
