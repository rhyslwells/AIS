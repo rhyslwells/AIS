{
 "cells": [
  {
   "cell_type": "code",
   "execution_count": 1,
   "id": "2ed7bf30",
   "metadata": {},
   "outputs": [
    {
     "data": {
      "text/html": [
       "        <script type=\"text/javascript\">\n",
       "        window.PlotlyConfig = {MathJaxConfig: 'local'};\n",
       "        if (window.MathJax) {MathJax.Hub.Config({SVG: {font: \"STIX-Web\"}});}\n",
       "        if (typeof require !== 'undefined') {\n",
       "        require.undef(\"plotly\");\n",
       "        requirejs.config({\n",
       "            paths: {\n",
       "                'plotly': ['https://cdn.plot.ly/plotly-2.4.2.min']\n",
       "            }\n",
       "        });\n",
       "        require(['plotly'], function(Plotly) {\n",
       "            window._Plotly = Plotly;\n",
       "        });\n",
       "        }\n",
       "        </script>\n",
       "        "
      ]
     },
     "metadata": {},
     "output_type": "display_data"
    },
    {
     "data": {
      "text/html": [
       "        <script type=\"text/javascript\">\n",
       "        window.PlotlyConfig = {MathJaxConfig: 'local'};\n",
       "        if (window.MathJax) {MathJax.Hub.Config({SVG: {font: \"STIX-Web\"}});}\n",
       "        if (typeof require !== 'undefined') {\n",
       "        require.undef(\"plotly\");\n",
       "        requirejs.config({\n",
       "            paths: {\n",
       "                'plotly': ['https://cdn.plot.ly/plotly-2.4.2.min']\n",
       "            }\n",
       "        });\n",
       "        require(['plotly'], function(Plotly) {\n",
       "            window._Plotly = Plotly;\n",
       "        });\n",
       "        }\n",
       "        </script>\n",
       "        "
      ]
     },
     "metadata": {},
     "output_type": "display_data"
    }
   ],
   "source": [
    "# Provides ways to work with large multidimensional arrays\n",
    "import numpy as np \n",
    "# Allows for further data manipulation and analysis\n",
    "import pandas as pd\n",
    "\n",
    "# In Anaconda -> Environments -> Not Installed -> pandas-datareader -> Apply\n",
    "from pandas_datareader import data as web # Reads stock data \n",
    "import matplotlib.pyplot as plt # Plotting\n",
    "import matplotlib.dates as mdates # Styling dates\n",
    "%matplotlib inline\n",
    "\n",
    "import cufflinks as cf\n",
    "import plotly.express as px\n",
    "import plotly.graph_objects as go\n",
    "\n",
    "# Make Plotly work in your Jupyter Notebook\n",
    "from plotly.offline import download_plotlyjs, init_notebook_mode, plot, iplot\n",
    "init_notebook_mode(connected=True)\n",
    "# Use Plotly locally\n",
    "cf.go_offline()\n",
    "\n",
    "import warnings\n",
    "warnings.simplefilter(\"ignore\")\n",
    "\n",
    "# pip install yfinance in Qt Console or Powershell Prompt on Windows\n",
    "import yfinance as yf\n",
    "\n",
    "from plotly.subplots import make_subplots\n",
    "\n",
    "# Install the Python Technical Analysis library\n",
    "# pip install ta in Qt Console or Powershell prompt\n",
    "from ta.trend import MACD\n",
    "from ta.momentum import StochasticOscillator\n",
    "\n",
    "# TA-Lib is used by traders to perform technical analysis\n",
    "# Go here : https://github.com/mrjbq7/ta-lib#dependencies\n",
    "import talib as ta"
   ]
  },
  {
   "cell_type": "markdown",
   "id": "b5a4282b",
   "metadata": {},
   "source": [
    "## Ichimoku Kinko Hyo"
   ]
  },
  {
   "cell_type": "markdown",
   "id": "00fbee56",
   "metadata": {},
   "source": [
    "The Ichimoku (One Look) is considered an all in one indicator. It provides information on momentum, support and resistance. It is made up of 5 lines. If you are a short term trader you create 1 minute or 6 hour. Long term traders focus on day or weekly data.\n",
    "\n",
    " - Conversion Line (Tenkan-sen) : Represents support, resistance and reversals. Used to measure short term trends.\n",
    " - Baseline (Kijun-sen) : Represents support, resistance and confirms trend changes. Allows you to evaluate the strength of medium term trends. Called the baseline because it lags the price.\n",
    " - Leading Span A (Senkou A) : Used to identify future areas of support and resistance\n",
    " - Leading Span B (Senkou B) : Other line used to identify suture support and resistance\n",
    " - Lagging Span (Chikou) : Shows possible support and resistance. It is used to confirm signals obtained from other lines.\n",
    " - Cloud (Kumo) : Space between Span A and B. Represents the divergence in price evolution.\n",
    " \n",
    "Formulas\n",
    "\n",
    " - Lagging Span = Price shifted back 26 periods\n",
    " - Base Line = (Highest Value in period + Lowest value in period)/2 (26 Sessions)\n",
    " - Conversion Line = (Highest Value in period + Lowest value in period)/2 (9 Sessions)\n",
    " - Leading Span A = (Conversion Value + Base Value)/2 (26 Sessions)\n",
    " - Leading Span B = (Conversion Value + Base Value)/2 (52 Sessions)"
   ]
  },
  {
   "cell_type": "markdown",
   "id": "9536b27d",
   "metadata": {},
   "source": [
    "## Download Stock Data"
   ]
  },
  {
   "cell_type": "markdown",
   "id": "400a5d5f",
   "metadata": {},
   "source": [
    " - Valid periods: 1d,5d,1mo,3mo,6mo,1y,2y,5y,10y,ytd,max\n",
    " - Valid intervals: 1m,2m,5m,15m,30m,60m,90m,1h,1d,5d,1wk,1mo,3mo"
   ]
  },
  {
   "cell_type": "code",
   "execution_count": 2,
   "id": "7bc351c1",
   "metadata": {},
   "outputs": [
    {
     "name": "stdout",
     "output_type": "stream",
     "text": [
      "[*********************100%***********************]  1 of 1 completed\n"
     ]
    }
   ],
   "source": [
    "amd_df = yf.download(tickers=\"AMD\", period=\"1y\", interval='1d')"
   ]
  },
  {
   "cell_type": "markdown",
   "id": "379bb8fc",
   "metadata": {},
   "source": [
    "## Conversion Line (Tenkan-sen)"
   ]
  },
  {
   "cell_type": "code",
   "execution_count": 3,
   "id": "4c9ac880",
   "metadata": {},
   "outputs": [],
   "source": [
    "# Conversion Line = (Highest Value in period + Lowest value in period)/2 (9 Sessions)\n",
    "\n",
    "hi_val = amd_df['High'].rolling(window=9).max()\n",
    "low_val = amd_df['Low'].rolling(window=9).min()\n",
    "amd_df['Conversion'] = (hi_val + low_val) / 2"
   ]
  },
  {
   "cell_type": "markdown",
   "id": "5d5a06e3",
   "metadata": {},
   "source": [
    "## Baseline (Kijun-sen)"
   ]
  },
  {
   "cell_type": "code",
   "execution_count": 4,
   "id": "aedcd4a5",
   "metadata": {},
   "outputs": [],
   "source": [
    "# Base Line = (Highest Value in period + Lowest value in period)/2 (26 Sessions)\n",
    "hi_val2 = amd_df['High'].rolling(window=26).max()\n",
    "low_val2 = amd_df['Low'].rolling(window=26).min()\n",
    "amd_df['Baseline'] = (hi_val2 + low_val2) / 2"
   ]
  },
  {
   "cell_type": "markdown",
   "id": "7d38756a",
   "metadata": {},
   "source": [
    "## Leading Span A (Senkou A)"
   ]
  },
  {
   "cell_type": "code",
   "execution_count": 5,
   "id": "2c580caf",
   "metadata": {},
   "outputs": [],
   "source": [
    "# Leading Span A = (Conversion Value + Base Value)/2 (26 Sessions)\n",
    "amd_df['SpanA'] = ((amd_df['Conversion'] + amd_df['Baseline']) / 2).shift(26)"
   ]
  },
  {
   "cell_type": "markdown",
   "id": "8433a19e",
   "metadata": {},
   "source": [
    "## Leading Span B (Senkou B)"
   ]
  },
  {
   "cell_type": "code",
   "execution_count": 6,
   "id": "64a60468",
   "metadata": {},
   "outputs": [],
   "source": [
    "# Leading Span B = (Conversion Value + Base Value)/2 (52 Sessions)\n",
    "# You need the conversion and baseline using 52 sessions\n",
    "hi_val3 = amd_df['High'].rolling(window=52).max()\n",
    "low_val3 = amd_df['Low'].rolling(window=52).min()\n",
    "amd_df['SpanB'] = ((hi_val3 + low_val3) / 2).shift(26)"
   ]
  },
  {
   "cell_type": "markdown",
   "id": "453eb927",
   "metadata": {},
   "source": [
    "## Lagging Span (Chikou)"
   ]
  },
  {
   "cell_type": "code",
   "execution_count": 7,
   "id": "03864950",
   "metadata": {},
   "outputs": [],
   "source": [
    "# Lagging Span = Price shifted back 26 periods\n",
    "amd_df['Lagging'] = amd_df['Close'].shift(-26)"
   ]
  },
  {
   "cell_type": "markdown",
   "id": "6592b738",
   "metadata": {},
   "source": [
    "## Candlesticks"
   ]
  },
  {
   "cell_type": "code",
   "execution_count": 8,
   "id": "d1c8dbe6",
   "metadata": {},
   "outputs": [],
   "source": [
    "candle = go.Candlestick(x=amd_df.index, open=amd_df['Open'],\n",
    "                       high=amd_df['High'], low=amd_df['Low'],\n",
    "                       close=amd_df['Close'], name='Candlestick')"
   ]
  },
  {
   "cell_type": "code",
   "execution_count": 9,
   "id": "f98268a5",
   "metadata": {},
   "outputs": [],
   "source": [
    "# Sets fill color to green when value greater or equal to 1\n",
    "# and red otherwise\n",
    "def get_fill_color(label):\n",
    "    if label >= 1:\n",
    "        return 'rgba(0,250,0,0.4)'\n",
    "    else:\n",
    "        return 'rgba(250,0,0,0.4)'"
   ]
  },
  {
   "cell_type": "markdown",
   "id": "a04c2207",
   "metadata": {},
   "source": [
    "## Plot"
   ]
  },
  {
   "cell_type": "code",
   "execution_count": null,
   "id": "1318bab9",
   "metadata": {
    "scrolled": false
   },
   "outputs": [],
   "source": [
    "# We will use 2 dataframes\n",
    "# 1 will contain the fill data between the spans\n",
    "# The other will be stored with the original data in df1\n",
    "df1 = amd_df.copy()\n",
    "\n",
    "fig = go.Figure()\n",
    "\n",
    "# Where SpanA is greater than SpanB give label a value of 1 or 0 if not\n",
    "amd_df['label'] = np.where(amd_df['SpanA'] > amd_df['SpanB'], 1, 0)\n",
    "\n",
    "# Shift 1 period, compare dataframe for inequality with the cumulative \n",
    "# sum and store in group\n",
    "amd_df['group'] = amd_df['label'].ne(amd_df['label'].shift()).cumsum()\n",
    "\n",
    "# Get a groupby object that contains information on the group\n",
    "amd_df = amd_df.groupby('group')\n",
    "\n",
    "# Cycle through the data pertaining to the fill between spans\n",
    "dfs = []\n",
    "for name, data in amd_df:\n",
    "    dfs.append(data)\n",
    "\n",
    "    \n",
    "# Add 2 traces to the fig object for each time the spans cross\n",
    "# and then define the fill using fill='tonexty' for the second trace\n",
    "for df in dfs:\n",
    "    fig.add_traces(go.Scatter(x=df.index, y = df.SpanA,\n",
    "                              line = dict(color='rgba(0,0,0,0)')))\n",
    "    \n",
    "    fig.add_traces(go.Scatter(x=df.index, y = df.SpanB,\n",
    "                              line = dict(color='rgba(0,0,0,0)'),\n",
    "                              fill='tonexty', \n",
    "                              fillcolor = get_fill_color(df['label'].iloc[0])))\n",
    "\n",
    "\n",
    "# Create plots for all of the nonfill data\n",
    "baseline = go.Scatter(x=df1.index, y=df1['Baseline'], \n",
    "                   line=dict(color='pink', width=2), name=\"Baseline\")\n",
    "\n",
    "conversion = go.Scatter(x=df1.index, y=df1['Conversion'], \n",
    "                  line=dict(color='black', width=1), name=\"Conversion\")\n",
    "\n",
    "lagging = go.Scatter(x=df1.index, y=df1['Lagging'], \n",
    "                  line=dict(color='purple', width=2, dash='dot'), name=\"Lagging\")\n",
    "\n",
    "span_a = go.Scatter(x=df1.index, y=df1['SpanA'],\n",
    "                  line=dict(color='green', width=2, dash='dot'), name=\"Span A\")\n",
    "\n",
    "span_b = go.Scatter(x=df1.index, y=df1['SpanB'],\n",
    "                    line=dict(color='red', width=1, dash='dot'), name=\"Span B\")\n",
    "\n",
    "# Add plots to the figure\n",
    "fig.add_trace(candle)\n",
    "fig.add_trace(baseline)\n",
    "fig.add_trace(conversion)\n",
    "fig.add_trace(lagging)\n",
    "fig.add_trace(span_a)\n",
    "fig.add_trace(span_b)\n",
    "\n",
    "fig.update_layout(height=900, width=1000, \n",
    "                  showlegend=True)\n",
    "\n",
    "fig.show()"
   ]
  },
  {
   "cell_type": "markdown",
   "id": "7bcb5b3a",
   "metadata": {},
   "source": [
    "## What the Lines Mean"
   ]
  },
  {
   "cell_type": "markdown",
   "id": "c39cfbba",
   "metadata": {},
   "source": [
    " - Lagging Span : When above the price it is bullish and when below bearish. It is used with other indicators because it is mainly a filter.\n",
    " - Baseline : When below price this is considered support. When above price this is considered resistance. We are in an uptrend when the slope increases and vice versa. The slope of the curve tells us the strength of the trend.\n",
    " - Conversion : We focus on its position versus the Baseline. When the Conversion crosses above the Baseline we are in an upward trend and vice versa. This is considered a strong indicator when above the Cloud and weak when below.\n",
    " - Cloud : The thicker the Cloud, the stronger the trend and vice versa. When the Spans cross many times we are in a range. When they cross this is a sign of a reversal of trend. \n",
    " \n",
    "1. Lagging span is bullish AMD till October 27th which is our last reading. Trending down though.\n",
    "2. The baseline is showing a strong support and has a great upward slope\n",
    "3. The Conversion is above the Baseline and the cloud which are great bullish trends\n",
    "4. On November 25th the Cloud crossed into the red signaling a reversal in trend (Bearish) but then turned bullish again November 26th"
   ]
  },
  {
   "cell_type": "markdown",
   "id": "05ed2e0a",
   "metadata": {},
   "source": [
    "## Get Ichimoku Function"
   ]
  },
  {
   "cell_type": "code",
   "execution_count": 12,
   "id": "a8b3fe83",
   "metadata": {},
   "outputs": [],
   "source": [
    "def get_Ichimoku(ticker):\n",
    "    df = yf.download(tickers=ticker, period=\"1y\", interval='1d')\n",
    "    \n",
    "    # Conversion\n",
    "    hi_val = df['High'].rolling(window=9).max()\n",
    "    low_val = df['Low'].rolling(window=9).min()\n",
    "    df['Conversion'] = (hi_val + low_val) / 2\n",
    "    \n",
    "    # Baseline\n",
    "    hi_val2 = df['High'].rolling(window=26).max()\n",
    "    low_val2 = df['Low'].rolling(window=26).min()\n",
    "    df['Baseline'] = (hi_val2 + low_val2) / 2\n",
    "    \n",
    "    # Spans\n",
    "    df['SpanA'] = ((df['Conversion'] + df['Baseline']) / 2).shift(26)\n",
    "    hi_val3 = df['High'].rolling(window=52).max()\n",
    "    low_val3 = df['Low'].rolling(window=52).min()\n",
    "    df['SpanB'] = ((hi_val3 + low_val3) / 2).shift(26)\n",
    "    df['Lagging'] = df['Close'].shift(-26)\n",
    "    \n",
    "    candle = go.Candlestick(x=df.index, open=df['Open'],\n",
    "                       high=df['High'], low=df['Low'],\n",
    "                       close=df['Close'], name='Candlestick')\n",
    "    \n",
    "    df1 = df.copy()\n",
    "    fig = go.Figure()\n",
    "    df['label'] = np.where(df['SpanA'] > df['SpanB'], 1, 0)\n",
    "\n",
    "    df['group'] = df['label'].ne(df['label'].shift()).cumsum()\n",
    "\n",
    "    df = df.groupby('group')\n",
    "\n",
    "    dfs = []\n",
    "    for name, data in df:\n",
    "        dfs.append(data)\n",
    "        \n",
    "    for df in dfs:\n",
    "        fig.add_traces(go.Scatter(x=df.index, y = df.SpanA,\n",
    "                              line = dict(color='rgba(0,0,0,0)')))\n",
    "    \n",
    "        fig.add_traces(go.Scatter(x=df.index, y = df.SpanB,\n",
    "                              line = dict(color='rgba(0,0,0,0)'),\n",
    "                              fill='tonexty', \n",
    "                              fillcolor = get_fill_color(df['label'].iloc[0])))\n",
    "    \n",
    "    baseline = go.Scatter(x=df1.index, y=df1['Baseline'], \n",
    "                   line=dict(color='pink', width=2), name=\"Baseline\")\n",
    "\n",
    "    conversion = go.Scatter(x=df1.index, y=df1['Conversion'], \n",
    "                  line=dict(color='black', width=1), name=\"Conversion\")\n",
    "\n",
    "    lagging = go.Scatter(x=df1.index, y=df1['Lagging'], \n",
    "                  line=dict(color='purple', width=2, dash='dot'), name=\"Lagging\")\n",
    "\n",
    "    span_a = go.Scatter(x=df1.index, y=df1['SpanA'],\n",
    "                  line=dict(color='green', width=2, dash='dot'), name=\"Span A\")\n",
    "\n",
    "    span_b = go.Scatter(x=df1.index, y=df1['SpanB'],\n",
    "                    line=dict(color='red', width=1, dash='dot'), name=\"Span B\")\n",
    "\n",
    "    # Add plots to the figure\n",
    "    fig.add_trace(candle)\n",
    "    fig.add_trace(baseline)\n",
    "    fig.add_trace(conversion)\n",
    "    fig.add_trace(lagging)\n",
    "    fig.add_trace(span_a)\n",
    "    fig.add_trace(span_b)\n",
    "\n",
    "    fig.update_layout(height=900, width=1000, \n",
    "                  showlegend=True)\n",
    "\n",
    "    fig.show()"
   ]
  },
  {
   "cell_type": "code",
   "execution_count": null,
   "id": "0c50429d",
   "metadata": {
    "scrolled": true
   },
   "outputs": [],
   "source": [
    "get_Ichimoku(\"AMZN\")"
   ]
  }
 ],
 "metadata": {
  "kernelspec": {
   "display_name": "Python 3",
   "language": "python",
   "name": "python3"
  },
  "language_info": {
   "codemirror_mode": {
    "name": "ipython",
    "version": 3
   },
   "file_extension": ".py",
   "mimetype": "text/x-python",
   "name": "python",
   "nbconvert_exporter": "python",
   "pygments_lexer": "ipython3",
   "version": "3.8.8"
  }
 },
 "nbformat": 4,
 "nbformat_minor": 5
}
