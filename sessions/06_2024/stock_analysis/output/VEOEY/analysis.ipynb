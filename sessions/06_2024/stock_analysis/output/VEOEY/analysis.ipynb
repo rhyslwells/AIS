{
 "cells": [
  {
   "cell_type": "markdown",
   "metadata": {
    "vscode": {
     "languageId": "plaintext"
    }
   },
   "source": [
    "## Price"
   ]
  },
  {
   "cell_type": "markdown",
   "metadata": {
    "vscode": {
     "languageId": "plaintext"
    }
   },
   "source": [
    "Purpose: This function plots the adjusted close price of a stock over time.\n",
    "\n",
    "Behavior: It generates a line plot showing the adjusted close prices over time. This visualization helps in understanding the historical price trends of the stock.\n"
   ]
  },
  {
   "cell_type": "markdown",
   "metadata": {},
   "source": [
    "![Alt text](adjusted_close.png)"
   ]
  },
  {
   "cell_type": "markdown",
   "metadata": {
    "vscode": {
     "languageId": "plaintext"
    }
   },
   "source": [
    "## Technical indicators"
   ]
  },
  {
   "cell_type": "markdown",
   "metadata": {
    "vscode": {
     "languageId": "plaintext"
    }
   },
   "source": [
    "Purpose: This function plots the adjusted close price and its 100-day moving average of a stock over time.\n",
    "\n",
    "Behavior: It calculates the 100-day moving average of the adjusted close prices and plots both the adjusted close and the moving average on the same plot. This plot helps in visualizing the long-term trend of the stock price, smoothing out short-term fluctuations.\n"
   ]
  },
  {
   "cell_type": "markdown",
   "metadata": {
    "vscode": {
     "languageId": "plaintext"
    }
   },
   "source": [
    "![Alt text](moving_average.png)"
   ]
  },
  {
   "cell_type": "markdown",
   "metadata": {
    "vscode": {
     "languageId": "plaintext"
    }
   },
   "source": [
    "Behavior: This function uses the BollingerBands class from the ta.volatility module to compute Bollinger Bands metrics such as the middle band, high band, low band, band indicators, width, and percentage bands. These metrics are crucial for understanding price volatility and potential breakout points in trading.\n",
    "\n",
    "Behavior: This function creates a plot displaying the adjusted close price along with its Bollinger Bands. The plot helps traders and analysts visualize price volatility and potential reversal points based on Bollinger Bands principles."
   ]
  },
  {
   "cell_type": "markdown",
   "metadata": {},
   "source": [
    "![Alt text](bollinger_bands.png)\n",
    "\n"
   ]
  },
  {
   "cell_type": "markdown",
   "metadata": {
    "vscode": {
     "languageId": "plaintext"
    }
   },
   "source": [
    "Behavior: This function generates a plot showing the MACD line, MACD signal line, and MACD histogram (difference between the two lines). The plot helps traders visualize the relationship between the two moving averages and potential trading signals derived from MACD crossovers and divergence patterns.\n"
   ]
  },
  {
   "cell_type": "markdown",
   "metadata": {},
   "source": [
    "![Alt text](macd.png)"
   ]
  },
  {
   "cell_type": "markdown",
   "metadata": {
    "vscode": {
     "languageId": "plaintext"
    }
   },
   "source": [
    "Behavior: This function computes the RSI using the RSIIndicator class from the ta.momentum module. RSI is a momentum oscillator that measures the speed and change of price movements. It helps identify overbought or oversold conditions in the market, aiding in potential trend reversal predictions.\n",
    "\n",
    "Behavior: This function generates a plot showing the RSI values over time. Horizontal lines are added at RSI levels of 70 (overbought) and 30 (oversold) to indicate potential reversal zones. Traders use this visualization to make decisions based on RSI signals regarding market conditions and potential price movements.\n"
   ]
  },
  {
   "cell_type": "markdown",
   "metadata": {},
   "source": [
    "![Alt text](rsi.png)"
   ]
  },
  {
   "cell_type": "markdown",
   "metadata": {
    "vscode": {
     "languageId": "plaintext"
    }
   },
   "source": [
    "Purpose: This function plots the volume of a stock traded over time.\n",
    "\n",
    "Behavior: It generates a bar chart showing the trading volume of the stock over time. This visualization is crucial for understanding the trading activity and liquidity of the stock.\n"
   ]
  },
  {
   "cell_type": "markdown",
   "metadata": {
    "vscode": {
     "languageId": "plaintext"
    }
   },
   "source": [
    "![Alt text](volume.png)"
   ]
  },
  {
   "cell_type": "markdown",
   "metadata": {
    "vscode": {
     "languageId": "plaintext"
    }
   },
   "source": [
    "## Fundemental indicators"
   ]
  }
 ],
 "metadata": {
  "language_info": {
   "name": "python"
  }
 },
 "nbformat": 4,
 "nbformat_minor": 2
}
